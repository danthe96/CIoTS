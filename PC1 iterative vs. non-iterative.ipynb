{
 "cells": [
  {
   "cell_type": "code",
   "execution_count": 12,
   "metadata": {},
   "outputs": [
    {
     "name": "stdout",
     "output_type": "stream",
     "text": [
      "The autoreload extension is already loaded. To reload it, use:\n",
      "  %reload_ext autoreload\n"
     ]
    }
   ],
   "source": [
    "%load_ext autoreload\n",
    "%autoreload 2"
   ]
  },
  {
   "cell_type": "code",
   "execution_count": 2,
   "metadata": {},
   "outputs": [
    {
     "name": "stderr",
     "output_type": "stream",
     "text": [
      "/usr/local/lib/python3.6/importlib/_bootstrap.py:219: RuntimeWarning: numpy.dtype size changed, may indicate binary incompatibility. Expected 96, got 88\n",
      "  return f(*args, **kwds)\n"
     ]
    }
   ],
   "source": [
    "import matplotlib.pyplot as plt\n",
    "import pandas as pd\n",
    "import networkx as nx\n",
    "import numpy as np\n",
    "from math import log\n",
    "from CIoTS import *\n",
    "import json\n",
    "from time import time\n",
    "import random"
   ]
  },
  {
   "cell_type": "code",
   "execution_count": 3,
   "metadata": {},
   "outputs": [],
   "source": [
    "runs = 5\n",
    "p_range = [5, 10, 15, 20] \n",
    "dimensions = 3\n",
    "data_length = 10000\n",
    "alpha = 0.05\n",
    "in_edges_range = [2, 4]\n",
    "auto_corr = 0.75\n",
    "patience = 2*max(p_range)\n",
    "p_max = 2*max(p_range)"
   ]
  },
  {
   "cell_type": "code",
   "execution_count": 49,
   "metadata": {},
   "outputs": [
    {
     "data": {
      "image/png": "[encoded data removed]",
      "text/plain": [
       "<Figure size 432x288 with 1 Axes>"
      ]
     },
     "metadata": {},
     "output_type": "display_data"
    }
   ],
   "source": [
    "from collections import defaultdict\n",
    "\n",
    "with open('results/edge_deletion_pc1.json', 'r') as f:\n",
    "    results = json.load(f)\n",
    "\n",
    "f1_scores = defaultdict(list)\n",
    "\n",
    "for setting in results:\n",
    "#     print(setting['in_edges'], setting['dim'], setting['p'])\n",
    "    \n",
    "    for experiment in setting['experiments']:\n",
    "        true_graph = nx.from_dict_of_lists(experiment['true_graph'])\n",
    "        pred_graph = nx.from_dict_of_lists(experiment['iterations'][setting['p']]['graph'], nx.DiGraph())\n",
    "        pred_p = experiment['iterations'][setting['p']]['p_iter']\n",
    "#         print(pred_p)\n",
    "        measurements = evaluate_edges(true_graph, pred_graph)\n",
    "        \n",
    "#         print(measurements['f1-score'])\n",
    "        f1_scores[(setting['in_edges'], setting['dim'], setting['p'])].append(measurements['f1-score'])\n",
    "        \n",
    "x = list(f1_scores.keys())\n",
    "\n",
    "plt.bar(x=range(0, 2*len(x), 2), tick_label=list(map(str, x)), height=np.array([np.mean(f1_scores[k]) for k in x]), yerr=np.array([np.std(f1_scores[k]) for k in x]))\n",
    "plt.show()"
   ]
  },
  {
   "cell_type": "code",
   "execution_count": 48,
   "metadata": {},
   "outputs": [
    {
     "data": {
      "image/png": "[encoded data removed]",
      "text/plain": [
       "<Figure size 432x288 with 1 Axes>"
      ]
     },
     "metadata": {},
     "output_type": "display_data"
    }
   ],
   "source": [
    "from collections import defaultdict\n",
    "\n",
    "with open('results/edge_deletion_pc1_noniterative.json', 'r') as f:\n",
    "    results = json.load(f)\n",
    "\n",
    "f1_scores = defaultdict(list)\n",
    "\n",
    "for setting in results:\n",
    "#     print(setting['in_edges'], setting['dim'], setting['p'])\n",
    "    \n",
    "    for experiment in setting['experiments']:\n",
    "        true_graph = nx.from_dict_of_lists(experiment['true_graph'])\n",
    "        pred_graph = nx.from_dict_of_lists(experiment['iterations'][-1]['graph'], nx.DiGraph())\n",
    "        pred_p = experiment['iterations'][-1]['p_iter']\n",
    "#         print(pred_p)\n",
    "#         print(setting['p'])\n",
    "#         print('')\n",
    "        measurements = evaluate_edges(true_graph, pred_graph)\n",
    "        \n",
    "#         print(measurements['f1-score'])\n",
    "        f1_scores[(setting['in_edges'], setting['dim'], setting['p'])].append(measurements['f1-score'])\n",
    "        \n",
    "x = list(f1_scores.keys())\n",
    "\n",
    "plt.bar(x=range(0, 2*len(x), 2), tick_label=list(map(str, x)), height=np.array([np.mean(f1_scores[k]) for k in x]), yerr=np.array([np.std(f1_scores[k]) for k in x]))\n",
    "plt.show()"
   ]
  },
  {
   "cell_type": "code",
   "execution_count": null,
   "metadata": {},
   "outputs": [],
   "source": []
  },
  {
   "cell_type": "code",
   "execution_count": null,
   "metadata": {},
   "outputs": [],
   "source": []
  },
  {
   "cell_type": "code",
   "execution_count": null,
   "metadata": {},
   "outputs": [],
   "source": []
  },
  {
   "cell_type": "code",
   "execution_count": null,
   "metadata": {},
   "outputs": [],
   "source": []
  }
 ],
 "metadata": {
  "kernelspec": {
   "display_name": "Python 3",
   "language": "python",
   "name": "python3"
  },
  "language_info": {
   "codemirror_mode": {
    "name": "ipython",
    "version": 3
   },
   "file_extension": ".py",
   "mimetype": "text/x-python",
   "name": "python",
   "nbconvert_exporter": "python",
   "pygments_lexer": "ipython3",
   "version": "3.6.6"
  }
 },
 "nbformat": 4,
 "nbformat_minor": 2
}
