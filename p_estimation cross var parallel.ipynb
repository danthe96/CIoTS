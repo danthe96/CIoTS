{
 "cells": [
  {
   "cell_type": "code",
   "execution_count": 1,
   "metadata": {},
   "outputs": [],
   "source": [
    "%load_ext autoreload\n",
    "%autoreload 2"
   ]
  },
  {
   "cell_type": "code",
   "execution_count": 2,
   "metadata": {},
   "outputs": [
    {
     "name": "stderr",
     "output_type": "stream",
     "text": [
      "/usr/local/lib/python3.6/importlib/_bootstrap.py:219: RuntimeWarning: numpy.dtype size changed, may indicate binary incompatibility. Expected 96, got 88\n",
      "  return f(*args, **kwds)\n"
     ]
    }
   ],
   "source": [
    "import matplotlib.pyplot as plt\n",
    "import pandas as pd\n",
    "import networkx as nx\n",
    "import numpy as np\n",
    "from math import log\n",
    "from CIoTS import *\n",
    "import json\n",
    "from time import time\n",
    "import random"
   ]
  },
  {
   "cell_type": "code",
   "execution_count": 3,
   "metadata": {},
   "outputs": [],
   "source": [
    "runs = 20\n",
    "p_range = [5, 10, 15, 20] \n",
    "dimensions_range = [3, 5, 10]\n",
    "in_edges_range = [2, 4, 6]\n",
    "data_length = 10000\n",
    "test_length = 2000\n",
    "alpha = 0.05\n",
    "auto_corr = 0.75\n",
    "patience = 2*max(p_range)\n",
    "p_max = 2*max(p_range)\n",
    "\n",
    "result_dir = 'results/p_estimation/'"
   ]
  },
  {
   "cell_type": "markdown",
   "metadata": {},
   "source": [
    "### PC1 with VAR for p estimation\n",
    "\n",
    "with open(result_dir+'estimates_pc1.json', 'r') as f:\n",
    "    results_var = json.load(f)\n",
    "\n",
    "for setting in results_var:\n",
    "    for experiment in setting['experiments']:\n",
    "        del experiment['iterations']    \n",
    "    \n",
    "for setting in results_var:\n",
    "    for experiment in setting['experiments']:\n",
    "        experiment['estimates'] = []\n",
    "        ts = pd.read_csv(result_dir+experiment['data'])\n",
    "        ts_test = pd.read_csv(result_dir+experiment['test_data'])\n",
    "        \n",
    "        start_time = time()\n",
    "        var_ranking, var_scores = var_order_select(ts, setting['p_max'], ['bic']) \n",
    "        end_time = time()\n",
    "        \n",
    "        for p_est, score in zip(var_ranking['bic'], var_scores['bic']):\n",
    "            _, graphs, times, bics, _, _ = pc_incremental_pc1(partial_corr_test, ts, setting['alpha'], p_est+1, \n",
    "                                                              verbose=True, patiency=0, steps=p_est)\n",
    "            # based on data\n",
    "            test_var = VAR(p_est)\n",
    "            test_var.fit(ts)\n",
    "            var_test_mse, var_test_bic = test_var.evaluate_test_set(ts_test[:p_est], ts_test[p_est:])\n",
    "            \n",
    "            # based on graph\n",
    "            test_var = VAR(p_est)\n",
    "            nm, dm = transform_ts(ts, p_est)\n",
    "            test_var.fit_from_graph(setting['dim'], dm, graphs[p_est], nm)\n",
    "            test_mse, test_bic = test_var.evaluate_test_set(ts_test[:p_est], ts_test[p_est:])\n",
    "            \n",
    "            experiment['estimates'].append({'p_est': int(p_est), 'time_pc1': float(times[p_est]), \n",
    "                                            'time_var': int(end_time-start_time), \n",
    "                                            'graph': nx.to_dict_of_lists(graphs[p_est]),\n",
    "                                            'bic': float(bics[p_est]), 'var_bic': float(score), \n",
    "                                            'test_bic': float(test_bic), 'var_test_bic': float(var_test_bic),\n",
    "                                            'test_mse': float(test_mse), 'var_test_mse': float(var_test_mse)})\n",
    "            \n",
    "    incoming_edges = setting['in_edges']\n",
    "    p = setting['p']\n",
    "    print(f'{incoming_edges} {p} done')\n",
    "\n",
    "    with open(result_dir+'estimates_var_pre2.json', 'w') as f:\n",
    "        json.dump(results_var, f)"
   ]
  },
  {
   "cell_type": "code",
   "execution_count": 6,
   "metadata": {},
   "outputs": [
    {
     "name": "stdout",
     "output_type": "stream",
     "text": [
      "2 5 done\n",
      "2 5 done\n",
      "2 5 done\n",
      "2 10 done\n",
      "2 10 done\n",
      "2 10 done\n",
      "2 15 done\n",
      "2 15 done\n",
      "2 15 done\n",
      "2 20 done\n",
      "2 20 done\n",
      "2 20 done\n",
      "4 5 done\n",
      "4 5 done\n"
     ]
    }
   ],
   "source": [
    "### PC1 with VAR for p estimation (no Graph)\n",
    "\n",
    "with open(result_dir+'estimates_pc1.json', 'r') as f:\n",
    "    results_var = json.load(f)\n",
    "\n",
    "for setting in results_var:\n",
    "    for experiment in setting['experiments']:\n",
    "        del experiment['iterations']    \n",
    "    \n",
    "for setting in results_var:\n",
    "    for experiment in setting['experiments']:\n",
    "        experiment['estimates'] = []\n",
    "        ts = pd.read_csv(result_dir+experiment['data'])\n",
    "        ts_test = pd.read_csv(result_dir+experiment['test_data'])\n",
    "        \n",
    "        start_time = time()\n",
    "        var_ranking, var_scores = var_order_select(ts, setting['p_max'], ['bic']) \n",
    "        end_time = time()\n",
    "        \n",
    "        for p_est, score in zip(var_ranking['bic'], var_scores['bic']):\n",
    "            # based on data\n",
    "            test_var = VAR(p_est)\n",
    "            test_var.fit(ts)\n",
    "            var_test_mse, var_test_bic = test_var.evaluate_test_set(ts_test[:p_est], ts_test[p_est:])\n",
    "            \n",
    "            experiment['estimates'].append({'p_est': int(p_est), 'time_pc1': 0, \n",
    "                                            'time_var': int(end_time-start_time), \n",
    "                                            'graph': {},\n",
    "                                            'bic': float(score), 'test_bic': float(var_test_bic), \n",
    "                                            'test_mse': float(var_test_mse)})\n",
    "            \n",
    "    incoming_edges = setting['in_edges']\n",
    "    p = setting['p']\n",
    "    print(f'{incoming_edges} {p} done')\n",
    "\n",
    "    with open(result_dir+'estimates_var_pre2.json', 'w') as f:\n",
    "        json.dump(results_var, f)"
   ]
  },
  {
   "cell_type": "code",
   "execution_count": null,
   "metadata": {},
   "outputs": [],
   "source": []
  }
 ],
 "metadata": {
  "kernelspec": {
   "display_name": "Python 3",
   "language": "python",
   "name": "python3"
  },
  "language_info": {
   "codemirror_mode": {
    "name": "ipython",
    "version": 3
   },
   "file_extension": ".py",
   "mimetype": "text/x-python",
   "name": "python",
   "nbconvert_exporter": "python",
   "pygments_lexer": "ipython3",
   "version": "3.6.6"
  }
 },
 "nbformat": 4,
 "nbformat_minor": 2
}
