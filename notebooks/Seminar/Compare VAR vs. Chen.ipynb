{
 "cells": [
  {
   "cell_type": "code",
   "execution_count": 1,
   "metadata": {
    "ExecuteTime": {
     "end_time": "2018-06-18T12:32:00.444450Z",
     "start_time": "2018-06-18T12:32:00.428599Z"
    },
    "collapsed": true
   },
   "outputs": [],
   "source": [
    "%load_ext autoreload\n",
    "%autoreload 2"
   ]
  },
  {
   "cell_type": "code",
   "execution_count": 44,
   "metadata": {
    "ExecuteTime": {
     "end_time": "2018-06-18T12:54:32.473185Z",
     "start_time": "2018-06-18T12:54:32.443481Z"
    },
    "collapsed": true
   },
   "outputs": [],
   "source": [
    "import matplotlib.pyplot as plt\n",
    "import pandas as pd\n",
    "import networkx as nx\n",
    "import numpy as np\n",
    "from tqdm import tqdm\n",
    "from CIoTS import CausalTSGenerator, draw_graph, VAR, pc_chen_modified, partial_corr_test, evaluate_edges"
   ]
  },
  {
   "cell_type": "code",
   "execution_count": 3,
   "metadata": {
    "ExecuteTime": {
     "end_time": "2018-06-18T12:32:02.902763Z",
     "start_time": "2018-06-18T12:32:02.878565Z"
    },
    "collapsed": true
   },
   "outputs": [],
   "source": [
    "dimensions = 4\n",
    "max_p = 8\n",
    "incoming_edges = 3"
   ]
  },
  {
   "cell_type": "code",
   "execution_count": 45,
   "metadata": {
    "ExecuteTime": {
     "end_time": "2018-06-18T12:55:49.855373Z",
     "start_time": "2018-06-18T12:55:13.530198Z"
    }
   },
   "outputs": [
    {
     "name": "stderr",
     "output_type": "stream",
     "text": [
      "100%|██████████| 20/20 [00:09<00:00,  2.01it/s]\n",
      "100%|██████████| 20/20 [00:26<00:00,  1.31s/it]\n"
     ]
    },
    {
     "data": {
      "image/png": "[encoded data removed]",
      "text/plain": [
       "<Figure size 432x288 with 1 Axes>"
      ]
     },
     "metadata": {},
     "output_type": "display_data"
    }
   ],
   "source": [
    "dimensions = 4\n",
    "max_p = 5\n",
    "incoming_edges = 2\n",
    "\n",
    "datasets = []\n",
    "for _ in tqdm(range(20)):\n",
    "    generator = CausalTSGenerator(dimensions=dimensions, max_p=max_p, data_length=10000, incoming_edges=incoming_edges)\n",
    "    ts = generator.generate()\n",
    "    datasets.append(ts)\n",
    "\n",
    "var_scores, chen_scores = [], []\n",
    "\n",
    "for ts in tqdm(datasets):\n",
    "    var = VAR(max_p)\n",
    "    var.fit(ts)\n",
    "    A = np.abs(var.params[1:])\n",
    "    var_graph = var.to_graph(threshold=np.mean(A)+np.std(A))\n",
    "\n",
    "    chen_graph = pc_chen_modified(partial_corr_test, ts, max_p, alpha=0.05)\n",
    "    \n",
    "    var_scores.append(evaluate_edges(generator.graph, var_graph)['f1-score'])\n",
    "    chen_scores.append(evaluate_edges(generator.graph, chen_graph)['f1-score'])\n",
    "    \n",
    "plt.boxplot([chen_scores, var_scores], labels=['Chen', 'VAR'])\n",
    "plt.show()"
   ]
  },
  {
   "cell_type": "code",
   "execution_count": 46,
   "metadata": {
    "ExecuteTime": {
     "end_time": "2018-06-18T12:57:14.621111Z",
     "start_time": "2018-06-18T12:55:49.856931Z"
    }
   },
   "outputs": [
    {
     "name": "stderr",
     "output_type": "stream",
     "text": [
      "100%|██████████| 20/20 [00:12<00:00,  1.66it/s]\n",
      "100%|██████████| 20/20 [01:12<00:00,  3.63s/it]\n"
     ]
    },
    {
     "data": {
      "image/png": "[encoded data removed]",
      "text/plain": [
       "<Figure size 432x288 with 1 Axes>"
      ]
     },
     "metadata": {},
     "output_type": "display_data"
    }
   ],
   "source": [
    "dimensions = 3\n",
    "max_p = 8\n",
    "incoming_edges = 3\n",
    "\n",
    "datasets = []\n",
    "for _ in tqdm(range(20)):\n",
    "    generator = CausalTSGenerator(dimensions=dimensions, max_p=max_p, data_length=10000, incoming_edges=incoming_edges)\n",
    "    ts = generator.generate()\n",
    "    datasets.append(ts)\n",
    "\n",
    "var_scores, chen_scores = [], []\n",
    "\n",
    "for ts in tqdm(datasets):\n",
    "    var = VAR(max_p)\n",
    "    var.fit(ts)\n",
    "    A = np.abs(var.params[1:])\n",
    "    var_graph = var.to_graph(threshold=np.mean(A)+np.std(A))\n",
    "\n",
    "    chen_graph = pc_chen_modified(partial_corr_test, ts, max_p, alpha=0.05)\n",
    "    \n",
    "    var_scores.append(evaluate_edges(generator.graph, var_graph)['f1-score'])\n",
    "    chen_scores.append(evaluate_edges(generator.graph, chen_graph)['f1-score'])\n",
    "    \n",
    "plt.boxplot([chen_scores, var_scores], labels=['Chen', 'VAR'])\n",
    "plt.show()"
   ]
  },
  {
   "cell_type": "code",
   "execution_count": 47,
   "metadata": {
    "ExecuteTime": {
     "end_time": "2018-06-18T13:01:38.534239Z",
     "start_time": "2018-06-18T12:57:14.622991Z"
    }
   },
   "outputs": [
    {
     "name": "stderr",
     "output_type": "stream",
     "text": [
      "100%|██████████| 20/20 [00:20<00:00,  1.03s/it]\n",
      "100%|██████████| 20/20 [04:03<00:00, 12.15s/it]\n"
     ]
    },
    {
     "data": {
      "image/png": "[encoded data removed]",
      "text/plain": [
       "<Figure size 432x288 with 1 Axes>"
      ]
     },
     "metadata": {},
     "output_type": "display_data"
    }
   ],
   "source": [
    "dimensions = 8\n",
    "max_p = 3\n",
    "incoming_edges = 3\n",
    "\n",
    "datasets = []\n",
    "for _ in tqdm(range(20)):\n",
    "    generator = CausalTSGenerator(dimensions=dimensions, max_p=max_p, data_length=10000, incoming_edges=incoming_edges)\n",
    "    ts = generator.generate()\n",
    "    datasets.append(ts)\n",
    "\n",
    "var_scores, chen_scores = [], []\n",
    "\n",
    "for ts in tqdm(datasets):\n",
    "    var = VAR(max_p)\n",
    "    var.fit(ts)\n",
    "    A = np.abs(var.params[1:])\n",
    "    var_graph = var.to_graph(threshold=np.mean(A)+np.std(A))\n",
    "\n",
    "    chen_graph = pc_chen_modified(partial_corr_test, ts, max_p, alpha=0.05)\n",
    "    \n",
    "    var_scores.append(evaluate_edges(generator.graph, var_graph)['f1-score'])\n",
    "    chen_scores.append(evaluate_edges(generator.graph, chen_graph)['f1-score'])\n",
    "    \n",
    "plt.boxplot([chen_scores, var_scores], labels=['Chen', 'VAR'])\n",
    "plt.show()"
   ]
  },
  {
   "cell_type": "code",
   "execution_count": 49,
   "metadata": {
    "ExecuteTime": {
     "end_time": "2018-06-18T13:06:37.208220Z",
     "start_time": "2018-06-18T13:06:22.469141Z"
    }
   },
   "outputs": [
    {
     "name": "stderr",
     "output_type": "stream",
     "text": [
      "100%|██████████| 20/20 [00:08<00:00,  2.39it/s]\n",
      "100%|██████████| 20/20 [00:06<00:00,  3.21it/s]\n"
     ]
    },
    {
     "data": {
      "image/png": "[encoded data removed]",
      "text/plain": [
       "<Figure size 432x288 with 1 Axes>"
      ]
     },
     "metadata": {},
     "output_type": "display_data"
    }
   ],
   "source": [
    "dimensions = 3\n",
    "max_p = 4\n",
    "incoming_edges = 2\n",
    "\n",
    "datasets = []\n",
    "for _ in tqdm(range(20)):\n",
    "    generator = CausalTSGenerator(dimensions=dimensions, max_p=max_p, data_length=10000, incoming_edges=incoming_edges)\n",
    "    ts = generator.generate()\n",
    "    datasets.append(ts)\n",
    "\n",
    "var_scores, chen_scores = [], []\n",
    "\n",
    "for ts in tqdm(datasets):\n",
    "    var = VAR(max_p)\n",
    "    var.fit(ts)\n",
    "    A = np.abs(var.params[1:])\n",
    "    var_graph = var.to_graph(threshold=np.mean(A)+np.std(A))\n",
    "\n",
    "    chen_graph = pc_chen_modified(partial_corr_test, ts, max_p, alpha=0.05)\n",
    "    \n",
    "    var_scores.append(evaluate_edges(generator.graph, var_graph)['f1-score'])\n",
    "    chen_scores.append(evaluate_edges(generator.graph, chen_graph)['f1-score'])\n",
    "    \n",
    "plt.boxplot([chen_scores, var_scores], labels=['Chen', 'VAR'])\n",
    "plt.show()"
   ]
  },
  {
   "cell_type": "code",
   "execution_count": null,
   "metadata": {
    "collapsed": true
   },
   "outputs": [],
   "source": []
  },
  {
   "cell_type": "code",
   "execution_count": null,
   "metadata": {
    "collapsed": true
   },
   "outputs": [],
   "source": []
  },
  {
   "cell_type": "code",
   "execution_count": null,
   "metadata": {
    "collapsed": true
   },
   "outputs": [],
   "source": []
  }
 ],
 "metadata": {
  "kernelspec": {
   "display_name": "Python 3",
   "language": "python",
   "name": "python3"
  },
  "language_info": {
   "codemirror_mode": {
    "name": "ipython",
    "version": 3
   },
   "file_extension": ".py",
   "mimetype": "text/x-python",
   "name": "python",
   "nbconvert_exporter": "python",
   "pygments_lexer": "ipython3",
   "version": "3.6.6"
  }
 },
 "nbformat": 4,
 "nbformat_minor": 2
}
