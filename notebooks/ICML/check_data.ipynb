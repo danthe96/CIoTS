{
 "cells": [
  {
   "cell_type": "code",
   "execution_count": 1,
   "metadata": {
    "ExecuteTime": {
     "end_time": "2019-01-17T13:14:43.480723Z",
     "start_time": "2019-01-17T13:14:41.453326Z"
    }
   },
   "outputs": [
    {
     "name": "stderr",
     "output_type": "stream",
     "text": [
      "/usr/local/lib/python3.6/importlib/_bootstrap.py:219: RuntimeWarning: numpy.dtype size changed, may indicate binary incompatibility. Expected 96, got 88\n",
      "  return f(*args, **kwds)\n"
     ]
    }
   ],
   "source": [
    "import os\n",
    "if not os.getcwd().endswith('CIoTS'):\n",
    "    os.chdir('../..')\n",
    "from CIoTS import *"
   ]
  },
  {
   "cell_type": "code",
   "execution_count": 2,
   "metadata": {
    "ExecuteTime": {
     "end_time": "2019-01-17T13:14:45.473909Z",
     "start_time": "2019-01-17T13:14:45.461016Z"
    },
    "scrolled": false
   },
   "outputs": [],
   "source": [
    "from itertools import product\n",
    "\n",
    "import os.path\n",
    "\n",
    "def check_setups(setups, data_path):\n",
    "    return not missing_setups(setups, data_path)\n",
    "\n",
    "def missing_setups(setups, data_path):\n",
    "    missing = []\n",
    "    for dim, in_edges, tau, autocorr, data_length, run in setups:\n",
    "        if not os.path.isfile(data_path + f't={tau}_d={dim}_in={in_edges}_autocorr={autocorr}_{run}.pickle'):\n",
    "            missing.append((dim, in_edges, tau, autocorr, data_length))#, run))\n",
    "    return missing\n"
   ]
  },
  {
   "cell_type": "code",
   "execution_count": null,
   "metadata": {},
   "outputs": [],
   "source": [
    "\n",
    "dimensions = [3, 5, 10]\n",
    "incoming_edges = [2, 3, 4]\n",
    "taus = [5, 10, 15, 20]\n",
    "autocorrs = [False, True]\n",
    "data_length = [10000]\n",
    "runs = range(10)\n",
    "\n",
    "setups = list(product(dimensions, incoming_edges, taus, autocorrs, data_length, runs))\n",
    "\n",
    "missing = list(set(missing_setups(setups, 'icml_data/')))\n",
    "missing"
   ]
  },
  {
   "cell_type": "code",
   "execution_count": null,
   "metadata": {
    "ExecuteTime": {
     "end_time": "2019-01-11T16:49:57.052323Z",
     "start_time": "2019-01-11T16:49:57.021252Z"
    }
   },
   "outputs": [],
   "source": [
    "print(f'{len(missing_setups(setups, \"icml_data/\"))} out of {len(setups)} missing')"
   ]
  },
  {
   "cell_type": "code",
   "execution_count": null,
   "metadata": {},
   "outputs": [],
   "source": []
  },
  {
   "cell_type": "code",
   "execution_count": 4,
   "metadata": {
    "ExecuteTime": {
     "end_time": "2019-01-17T13:15:11.175534Z",
     "start_time": "2019-01-17T13:15:11.166108Z"
    }
   },
   "outputs": [],
   "source": [
    "from itertools import product\n",
    "dimensions = [3, 5, 10]\n",
    "incoming_edges = [2, 3, 4]\n",
    "taus = [5, 10, 15, 20]\n",
    "autocorrs = [False, True]\n",
    "data_length = [10000]\n",
    "runs = range(10)\n",
    "\n",
    "setups = list(product(dimensions, incoming_edges, taus, autocorrs, data_length, runs))"
   ]
  },
  {
   "cell_type": "code",
   "execution_count": null,
   "metadata": {
    "ExecuteTime": {
     "end_time": "2019-01-15T16:10:02.221487Z",
     "start_time": "2019-01-15T16:10:01.789508Z"
    }
   },
   "outputs": [],
   "source": [
    "\n",
    "\n",
    "dim, in_edges, tau, autocorr, data_length = setups[0]\n",
    "generator = CausalTSGenerator(dimensions=dim, max_p=tau, data_length=data_length,\n",
    "                              incoming_edges=in_edges, autocorrelation=autocorr)\n",
    "generator.generate_stable_graph()\n",
    "generator.draw_graph()"
   ]
  },
  {
   "cell_type": "code",
   "execution_count": null,
   "metadata": {},
   "outputs": [],
   "source": []
  },
  {
   "cell_type": "code",
   "execution_count": 46,
   "metadata": {
    "ExecuteTime": {
     "end_time": "2019-01-17T13:54:31.182950Z",
     "start_time": "2019-01-17T13:54:31.150245Z"
    }
   },
   "outputs": [
    {
     "data": {
      "text/plain": [
       "Counter({(3, 3, 10, True, 10000): 6,\n",
       "         (3, 3, 15, True, 10000): 10,\n",
       "         (3, 3, 20, True, 10000): 10,\n",
       "         (3, 4, 10, False, 10000): 8,\n",
       "         (3, 4, 10, True, 10000): 9,\n",
       "         (3, 4, 15, False, 10000): 10,\n",
       "         (3, 4, 15, True, 10000): 10,\n",
       "         (3, 4, 20, False, 10000): 10,\n",
       "         (3, 4, 20, True, 10000): 10,\n",
       "         (5, 3, 10, True, 10000): 10,\n",
       "         (5, 3, 15, False, 10000): 9,\n",
       "         (5, 3, 15, True, 10000): 10,\n",
       "         (5, 3, 20, False, 10000): 10,\n",
       "         (5, 3, 20, True, 10000): 10,\n",
       "         (5, 4, 5, False, 10000): 10,\n",
       "         (5, 4, 5, True, 10000): 10,\n",
       "         (5, 4, 10, False, 10000): 10,\n",
       "         (5, 4, 10, True, 10000): 10,\n",
       "         (5, 4, 15, False, 10000): 10,\n",
       "         (5, 4, 15, True, 10000): 10,\n",
       "         (5, 4, 20, False, 10000): 10,\n",
       "         (5, 4, 20, True, 10000): 10,\n",
       "         (10, 2, 10, True, 10000): 6,\n",
       "         (10, 2, 15, True, 10000): 10,\n",
       "         (10, 2, 20, True, 10000): 10,\n",
       "         (10, 3, 5, False, 10000): 10,\n",
       "         (10, 3, 5, True, 10000): 10,\n",
       "         (10, 3, 10, False, 10000): 10,\n",
       "         (10, 3, 10, True, 10000): 10,\n",
       "         (10, 3, 15, False, 10000): 10,\n",
       "         (10, 3, 15, True, 10000): 10,\n",
       "         (10, 3, 20, False, 10000): 10,\n",
       "         (10, 3, 20, True, 10000): 10,\n",
       "         (10, 4, 5, False, 10000): 10,\n",
       "         (10, 4, 5, True, 10000): 10,\n",
       "         (10, 4, 10, False, 10000): 10,\n",
       "         (10, 4, 10, True, 10000): 10,\n",
       "         (10, 4, 15, False, 10000): 10,\n",
       "         (10, 4, 15, True, 10000): 10,\n",
       "         (10, 4, 20, False, 10000): 10,\n",
       "         (10, 4, 20, True, 10000): 10})"
      ]
     },
     "execution_count": 46,
     "metadata": {},
     "output_type": "execute_result"
    }
   ],
   "source": [
    "Counter(missing_setups(setups, 'notebooks/ICML/icml_data_v2/'))"
   ]
  },
  {
   "cell_type": "code",
   "execution_count": 48,
   "metadata": {
    "ExecuteTime": {
     "end_time": "2019-01-17T13:54:50.077407Z",
     "start_time": "2019-01-17T13:54:50.062676Z"
    }
   },
   "outputs": [],
   "source": [
    "from collections import Counter\n",
    "missing = set(missing_setups(setups, 'notebooks/ICML/icml_data_v2/'))"
   ]
  },
  {
   "cell_type": "code",
   "execution_count": 49,
   "metadata": {
    "ExecuteTime": {
     "end_time": "2019-01-17T13:54:50.770459Z",
     "start_time": "2019-01-17T13:54:50.756907Z"
    }
   },
   "outputs": [
    {
     "data": {
      "text/plain": [
       "41"
      ]
     },
     "execution_count": 49,
     "metadata": {},
     "output_type": "execute_result"
    }
   ],
   "source": [
    "len(missing)"
   ]
  },
  {
   "cell_type": "code",
   "execution_count": 38,
   "metadata": {
    "ExecuteTime": {
     "end_time": "2019-01-17T13:38:20.501709Z",
     "start_time": "2019-01-17T13:38:18.626619Z"
    }
   },
   "outputs": [],
   "source": [
    "import sys\n",
    "from subprocess import Popen, PIPE, run\n",
    "for setup in missing:\n",
    "    p = Popen(['python3', 'datagen.py', str(setup)])"
   ]
  },
  {
   "cell_type": "code",
   "execution_count": null,
   "metadata": {},
   "outputs": [],
   "source": []
  },
  {
   "cell_type": "code",
   "execution_count": null,
   "metadata": {},
   "outputs": [],
   "source": []
  }
 ],
 "metadata": {
  "kernelspec": {
   "display_name": "Python 3",
   "language": "python",
   "name": "python3"
  },
  "language_info": {
   "codemirror_mode": {
    "name": "ipython",
    "version": 3
   },
   "file_extension": ".py",
   "mimetype": "text/x-python",
   "name": "python",
   "nbconvert_exporter": "python",
   "pygments_lexer": "ipython3",
   "version": "3.6.6"
  },
  "varInspector": {
   "cols": {
    "lenName": 16,
    "lenType": 16,
    "lenVar": 40
   },
   "kernels_config": {
    "python": {
     "delete_cmd_postfix": "",
     "delete_cmd_prefix": "del ",
     "library": "var_list.py",
     "varRefreshCmd": "print(var_dic_list())"
    },
    "r": {
     "delete_cmd_postfix": ") ",
     "delete_cmd_prefix": "rm(",
     "library": "var_list.r",
     "varRefreshCmd": "cat(var_dic_list()) "
    }
   },
   "types_to_exclude": [
    "module",
    "function",
    "builtin_function_or_method",
    "instance",
    "_Feature"
   ],
   "window_display": false
  }
 },
 "nbformat": 4,
 "nbformat_minor": 2
}
