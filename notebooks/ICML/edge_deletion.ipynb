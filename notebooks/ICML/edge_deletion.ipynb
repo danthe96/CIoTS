{
 "cells": [
  {
   "cell_type": "code",
   "execution_count": 43,
   "metadata": {},
   "outputs": [
    {
     "name": "stdout",
     "output_type": "stream",
     "text": [
      "The autoreload extension is already loaded. To reload it, use:\n",
      "  %reload_ext autoreload\n"
     ]
    }
   ],
   "source": [
    "%load_ext autoreload\n",
    "%autoreload 2"
   ]
  },
  {
   "cell_type": "markdown",
   "metadata": {},
   "source": [
    "## Test"
   ]
  },
  {
   "cell_type": "code",
   "execution_count": 13,
   "metadata": {},
   "outputs": [],
   "source": [
    "import matplotlib.pyplot as plt\n",
    "import pandas as pd\n",
    "import networkx as nx\n",
    "import numpy as np\n",
    "from math import log\n",
    "from CIoTS import *\n",
    "import json\n",
    "from time import time\n",
    "import random"
   ]
  },
  {
   "cell_type": "code",
   "execution_count": 15,
   "metadata": {},
   "outputs": [],
   "source": [
    "runs = 5\n",
    "p_range = [5, 10, 15, 20] \n",
    "dimensions = 3\n",
    "data_length = 10000\n",
    "alpha = 0.05\n",
    "in_edges_range = [2, 4]\n",
    "auto_corr = 0.75\n",
    "patience = 2*max(p_range)\n",
    "p_max = 2*max(p_range)"
   ]
  },
  {
   "cell_type": "code",
   "execution_count": 16,
   "metadata": {
    "scrolled": true
   },
   "outputs": [
    {
     "name": "stdout",
     "output_type": "stream",
     "text": [
      "2 5 0\n",
      "2 5 1\n",
      "2 5 2\n",
      "2 5 3\n",
      "2 5 4\n",
      "2 10 0\n",
      "2 10 1\n",
      "2 10 2\n",
      "2 10 3\n",
      "2 10 4\n",
      "2 15 0\n",
      "2 15 1\n",
      "2 15 2\n",
      "2 15 3\n",
      "2 15 4\n",
      "2 20 0\n",
      "2 20 1\n",
      "2 20 2\n",
      "2 20 3\n",
      "2 20 4\n",
      "4 5 0\n",
      "4 5 1\n",
      "4 5 2\n",
      "4 5 3\n",
      "4 5 4\n",
      "4 10 0\n",
      "4 10 1\n",
      "4 10 2\n",
      "4 10 3\n",
      "4 10 4\n",
      "4 15 0\n",
      "4 15 1\n",
      "4 15 2\n",
      "4 15 3\n",
      "4 15 4\n",
      "4 20 0\n",
      "4 20 1\n",
      "4 20 2\n",
      "4 20 3\n",
      "4 20 4\n"
     ]
    }
   ],
   "source": [
    "results = []\n",
    "for incoming_edges in in_edges_range:\n",
    "    for p in p_range:\n",
    "        setting = {'dim': dimensions, 'p': p, 'in_edges': incoming_edges, 'auto_corr': auto_corr,\n",
    "                   'patience': patience, 'p_max': p_max, 'alpha': alpha, 'experiments': []}\n",
    "        for run in range(runs):\n",
    "            generator = CausalTSGenerator(dimensions=dimensions, max_p=p, data_length=data_length,\n",
    "                                          incoming_edges=incoming_edges, autocorrelation=auto_corr)\n",
    "            ts = generator.generate()\n",
    "            \n",
    "            rand_suffix = random.randint(0, 2e16-1)\n",
    "            csv_name = f'data/{p}_{dimensions}_{incoming_edges}_{run}_{rand_suffix}.csv'\n",
    "            experiment = {'true_graph': nx.to_dict_of_lists(generator.graph), 'data': csv_name, 'iterations': []}\n",
    "            \n",
    "            _, graphs, _, bics = pc_incremental(partial_corr_test, ts, alpha, p_max, \n",
    "                                                verbose=True, patiency=patience)\n",
    "            for p_iter, graph in graphs.items():\n",
    "                experiment['iterations'].append({'p_iter': p_iter, 'bic': bics[p_iter],\n",
    "                                                 'graph': nx.to_dict_of_lists(graph)})\n",
    "            \n",
    "            ts.to_csv('results/'+csv_name, index=False)\n",
    "            setting['experiments'].append(experiment)\n",
    "            \n",
    "        print(f'{incoming_edges} {p} done')\n",
    "        \n",
    "        results.append(setting)\n",
    "        with open('results/edge_deletion.json', 'w') as f:\n",
    "            json.dump(results, f)\n",
    "        "
   ]
  },
  {
   "cell_type": "code",
   "execution_count": 20,
   "metadata": {},
   "outputs": [
    {
     "name": "stdout",
     "output_type": "stream",
     "text": [
      "4 5 done\n",
      "4 10 done\n",
      "4 15 done\n",
      "4 20 done\n",
      "4 5 done\n",
      "4 10 done\n",
      "4 15 done\n",
      "4 20 done\n"
     ]
    }
   ],
   "source": [
    "with open('results/edge_deletion.json', 'r') as f:\n",
    "    results = json.load(f)\n",
    "\n",
    "for setting in results:\n",
    "    for experiment in setting['experiments']:\n",
    "        experiment['iterations'] = []\n",
    "        ts = pd.read_csv('results/' + experiment['data'])\n",
    "\n",
    "        _, graphs, _, bics = pc_incremental_extensive(partial_corr_test, ts, setting['alpha'], setting['p_max'], \n",
    "                                                      verbose=True, patiency=setting['patience'])\n",
    "        for p_iter, graph in graphs.items():\n",
    "            experiment['iterations'].append({'p_iter': p_iter, 'bic': bics[p_iter],\n",
    "                                             'graph': nx.to_dict_of_lists(graph)})\n",
    "    incoming_edges = setting['in_edges']\n",
    "    p = setting['p']\n",
    "    print(f'{incoming_edges} {p} done')\n",
    "\n",
    "with open('results/edge_deletion_extensive.json', 'w') as f:\n",
    "    json.dump(results, f)"
   ]
  },
  {
   "cell_type": "code",
   "execution_count": null,
   "metadata": {},
   "outputs": [
    {
     "name": "stdout",
     "output_type": "stream",
     "text": [
      "2 5 done\n"
     ]
    }
   ],
   "source": [
    "with open('results/edge_deletion.json', 'r') as f:\n",
    "    results = json.load(f)\n",
    "\n",
    "for setting in results:\n",
    "    setting['max_cond'] = 5\n",
    "    for experiment in setting['experiments']:\n",
    "        experiment['iterations'] = []\n",
    "        ts = pd.read_csv('results/'+experiment['data'])\n",
    "\n",
    "        _, graphs, times, bics, sepsets, cond_sizes = pc_incremental_pc1(\n",
    "            partial_corr_test, ts, setting['alpha'], setting['p_max'], \n",
    "            verbose=True, patiency=2, max_cond=5)\n",
    "        experiment['sepsets'] = [{'from': k[0], 'to': k[1], 'sepset': v} for k,v in sepsets.items()]\n",
    "        experiment['cond_sizes'] = cond_sizes\n",
    "        for p_iter, graph in graphs.items():\n",
    "            experiment['iterations'].append({'p_iter': p_iter, 'bic': bics[p_iter],\n",
    "                                             'graph': nx.to_dict_of_lists(graph), \n",
    "                                             'time': times[p_iter]})\n",
    "    incoming_edges = setting['in_edges']\n",
    "    p = setting['p']\n",
    "    print(f'{incoming_edges} {p} done')\n",
    "\n",
    "with open('results/edge_deletion_pc1_maxcond5.json', 'w') as f:\n",
    "    json.dump(results, f)"
   ]
  },
  {
   "cell_type": "code",
   "execution_count": null,
   "metadata": {},
   "outputs": [],
   "source": [
    "with open('results/edge_deletion.json', 'r') as f:\n",
    "    results = json.load(f)\n",
    "\n",
    "for setting in results:\n",
    "    for experiment in setting['experiments']:\n",
    "        experiment['iterations'] = []\n",
    "        ts = pd.read_csv('results/'+experiment['data'])\n",
    "\n",
    "        _, graphs, times, bics, sepsets, cond_sizes = pc_incremental_pc1(\n",
    "            partial_corr_test, ts, setting['alpha'], setting['p_max'], \n",
    "            verbose=True, patiency=setting['patience'])\n",
    "        experiment['sepsets'] = [{'from': k[0], 'to': k[1], 'sepset': v} for k,v in sepsets.items()]\n",
    "        experiment['cond_sizes'] = cond_sizes\n",
    "        for p_iter, graph in graphs.items():\n",
    "            experiment['iterations'].append({'p_iter': p_iter, 'bic': bics[p_iter],\n",
    "                                             'graph': nx.to_dict_of_lists(graph), \n",
    "                                             'time': times[p_iter]})\n",
    "    incoming_edges = setting['in_edges']\n",
    "    p = setting['p']\n",
    "    print(f'{incoming_edges} {p} done')\n",
    "\n",
    "with open('results/edge_deletion_pc1.json', 'w') as f:\n",
    "    json.dump(results, f)"
   ]
  },
  {
   "cell_type": "code",
   "execution_count": null,
   "metadata": {},
   "outputs": [],
   "source": [
    "with open('results/edge_deletion.json', 'r') as f:\n",
    "    results = json.load(f)\n",
    "\n",
    "for setting in results:\n",
    "    for experiment in setting['experiments']:\n",
    "        experiment['iterations'] = []\n",
    "        ts = pd.read_csv('results/'+experiment['data'])\n",
    "\n",
    "        _, graphs, times, bics, sepsets, cond_sizes = pc_incremental_pc1(partial_corr_test, ts, setting['alpha'], setting['p_max'], \n",
    "                                                verbose=True, patiency=setting['patience'], steps=setting['p'])\n",
    "        experiment['sepsets'] = [{'from': k[0], 'to': k[1], 'sepset': v} for k,v in sepsets.items()]\n",
    "        experiment['cond_sizes'] = cond_sizes\n",
    "        for p_iter, graph in graphs.items():\n",
    "            experiment['iterations'].append({'p_iter': p_iter, 'bic': bics[p_iter],\n",
    "                                             'graph': nx.to_dict_of_lists(graph),\n",
    "                                             'time': times[p_iter]})\n",
    "    incoming_edges = setting['in_edges']\n",
    "    p = setting['p']\n",
    "    print(f'{incoming_edges} {p} done')\n",
    "\n",
    "with open('results/edge_deletion_pc1_noniterative.json', 'w') as f:\n",
    "    json.dump(results, f)"
   ]
  }
 ],
 "metadata": {
  "kernelspec": {
   "display_name": "Python 3",
   "language": "python",
   "name": "python3"
  },
  "language_info": {
   "codemirror_mode": {
    "name": "ipython",
    "version": 3
   },
   "file_extension": ".py",
   "mimetype": "text/x-python",
   "name": "python",
   "nbconvert_exporter": "python",
   "pygments_lexer": "ipython3",
   "version": "3.6.6"
  }
 },
 "nbformat": 4,
 "nbformat_minor": 2
}
