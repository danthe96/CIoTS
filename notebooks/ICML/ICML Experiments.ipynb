{
 "cells": [
  {
   "cell_type": "code",
   "execution_count": 33,
   "metadata": {
    "ExecuteTime": {
     "end_time": "2018-12-20T08:50:00.953145Z",
     "start_time": "2018-12-20T08:50:00.950323Z"
    }
   },
   "outputs": [],
   "source": [
    "import os\n",
    "if not os.getcwd().endswith('CIoTS'):\n",
    "    os.chdir('../..')\n",
    "\n",
    "import numpy as np\n",
    "import pandas as pd\n",
    "import matplotlib.pyplot as plt\n",
    "from CIoTS import *"
   ]
  },
  {
   "cell_type": "markdown",
   "metadata": {},
   "source": [
    "# Execution"
   ]
  },
  {
   "cell_type": "markdown",
   "metadata": {},
   "source": [
    "## Data generation"
   ]
  },
  {
   "cell_type": "code",
   "execution_count": 20,
   "metadata": {
    "ExecuteTime": {
     "end_time": "2018-12-19T23:24:25.798446Z",
     "start_time": "2018-12-19T23:24:25.794523Z"
    }
   },
   "outputs": [],
   "source": [
    "from itertools import product\n",
    "\n",
    "dimensions = [3,4,5]\n",
    "incoming_edges = [3]\n",
    "taus = [5, 10, 15]\n",
    "autocorr = [0.75]\n",
    "data_length = [1000]\n",
    "runs = range(5)\n",
    "\n",
    "setups = list(product(dimensions, incoming_edges, taus, autocorr, data_length, runs))"
   ]
  },
  {
   "cell_type": "code",
   "execution_count": 28,
   "metadata": {
    "ExecuteTime": {
     "end_time": "2018-12-19T23:27:50.245485Z",
     "start_time": "2018-12-19T23:27:50.013156Z"
    },
    "code_folding": []
   },
   "outputs": [],
   "source": [
    "import pickle\n",
    "data_path = 'notebooks/ICML/icml_data/'\n",
    "\n",
    "for dim, in_edges, tau, autocorr, data_length, run in setups:\n",
    "    generator = CausalTSGenerator(dimensions=dim, max_p=tau, data_length=data_length,\n",
    "                                  incoming_edges=in_edges, autocorrelation=autocorr)\n",
    "    ts = generator.generate()\n",
    "    pickle.dump(generator, open(data_path + f't={tau}_d={dim}_in={in_edges}_{run}.pickle', 'wb'))"
   ]
  },
  {
   "cell_type": "code",
   "execution_count": null,
   "metadata": {},
   "outputs": [],
   "source": []
  },
  {
   "cell_type": "code",
   "execution_count": null,
   "metadata": {},
   "outputs": [],
   "source": []
  },
  {
   "cell_type": "markdown",
   "metadata": {},
   "source": [
    "## 1. Compute $F_1$ for known $\\tau$\n",
    "\n",
    "PC1 iterative vs. PC1 non-iterative\n",
    "\n",
    "Also check for $\\tau - k$ and $\\tau + k$ to visualize importance of $\\tau$ estimation"
   ]
  },
  {
   "cell_type": "code",
   "execution_count": 29,
   "metadata": {
    "ExecuteTime": {
     "end_time": "2018-12-19T23:28:00.663983Z",
     "start_time": "2018-12-19T23:27:57.928468Z"
    }
   },
   "outputs": [],
   "source": [
    "data_path = 'notebooks/ICML/icml_data/'\n",
    "results_path = 'notebooks/ICML/icml_results/'\n",
    "results = pd.DataFrame()\n",
    "\n",
    "algorithms = [pc_incremental, pc_incremental_pc1]\n",
    "\n",
    "for dim, in_edges, tau, _, _, run in setups[:1]:\n",
    "    generator = pickle.load(open(data_path + f't={tau}_d={dim}_in={in_edges}_{run}.pickle', 'rb'))\n",
    "    \n",
    "    df_dict = {'dimension': dim, 'max time lag': tau, 'incoming edges': in_edges, 'run': run}\n",
    "    for algorithm in algorithms:\n",
    "        pred_graph = algorithm(partial_corr_test, generator.ts, alpha=0.05, p_max=40, \n",
    "                               verbose=False, patiency=20)\n",
    "        f1_score = evaluate_edges(generator.graph, pred_graph)['f1-score']\n",
    "        df_dict[algorithm.__name__ + '_f1'] = f1_score\n",
    "\n",
    "    results = results.append(df_dict, ignore_index=True)\n",
    "\n",
    "results.to_csv(results_path + f'experiment1.csv')"
   ]
  },
  {
   "cell_type": "code",
   "execution_count": 34,
   "metadata": {
    "ExecuteTime": {
     "end_time": "2018-12-20T09:04:42.046648Z",
     "start_time": "2018-12-20T09:04:42.042177Z"
    }
   },
   "outputs": [],
   "source": [
    "dim, in_edges, tau, _, _, run = setups[0]\n",
    "generator = pickle.load(open(data_path + f't={tau}_d={dim}_in={in_edges}_{run}.pickle', 'rb'))"
   ]
  },
  {
   "cell_type": "code",
   "execution_count": 54,
   "metadata": {
    "ExecuteTime": {
     "end_time": "2018-12-20T09:10:31.634424Z",
     "start_time": "2018-12-20T09:10:31.389011Z"
    },
    "code_folding": [],
    "scrolled": false
   },
   "outputs": [
    {
     "data": {
      "text/plain": [
       "[]"
      ]
     },
     "execution_count": 54,
     "metadata": {},
     "output_type": "execute_result"
    },
    {
     "data": {
      "image/png": "[encoded data removed]",
      "text/plain": [
       "<Figure size 432x288 with 1 Axes>"
      ]
     },
     "metadata": {},
     "output_type": "display_data"
    }
   ],
   "source": [
    "weights = []\n",
    "for dim, in_edges, tau, _, _, run in setups:\n",
    "    generator = pickle.load(open(data_path + f't={tau}_d={dim}_in={in_edges}_{run}.pickle', 'rb'))\n",
    "    weights.extend([generator.graph.edges[edge]['weight'] for edge in generator.graph.edges() if generator.graph.edges[edge]['weight'] != 0.75])\n",
    "plt.hist(weights, bins=50)\n",
    "plt.plot()"
   ]
  },
  {
   "cell_type": "code",
   "execution_count": 108,
   "metadata": {
    "ExecuteTime": {
     "end_time": "2018-12-20T09:59:10.644746Z",
     "start_time": "2018-12-20T09:59:10.219114Z"
    }
   },
   "outputs": [
    {
     "data": {
      "text/plain": [
       "[]"
      ]
     },
     "execution_count": 108,
     "metadata": {},
     "output_type": "execute_result"
    },
    {
     "data": {
      "image/png": "[encoded data removed]",
      "text/plain": [
       "<Figure size 432x288 with 1 Axes>"
      ]
     },
     "metadata": {},
     "output_type": "display_data"
    }
   ],
   "source": [
    "import random\n",
    "rd_data = []\n",
    "for _ in range(1000):\n",
    "    \n",
    "plt.hist(rd_data, bins=50)\n",
    "plt.plot()"
   ]
  },
  {
   "cell_type": "code",
   "execution_count": null,
   "metadata": {},
   "outputs": [],
   "source": []
  },
  {
   "cell_type": "code",
   "execution_count": null,
   "metadata": {},
   "outputs": [],
   "source": []
  },
  {
   "cell_type": "code",
   "execution_count": null,
   "metadata": {},
   "outputs": [],
   "source": []
  },
  {
   "cell_type": "code",
   "execution_count": null,
   "metadata": {},
   "outputs": [],
   "source": []
  },
  {
   "cell_type": "markdown",
   "metadata": {},
   "source": [
    "## 2. Compute estimate $\\hat{\\tau}$ for unknown $\\tau$"
   ]
  },
  {
   "cell_type": "code",
   "execution_count": null,
   "metadata": {},
   "outputs": [],
   "source": []
  },
  {
   "cell_type": "code",
   "execution_count": null,
   "metadata": {},
   "outputs": [],
   "source": []
  },
  {
   "cell_type": "code",
   "execution_count": null,
   "metadata": {},
   "outputs": [],
   "source": []
  },
  {
   "cell_type": "markdown",
   "metadata": {},
   "source": [
    "# Visualization"
   ]
  },
  {
   "cell_type": "markdown",
   "metadata": {
    "heading_collapsed": true
   },
   "source": [
    "## 1. Visualize $F_1$ for known $\\tau$"
   ]
  },
  {
   "cell_type": "code",
   "execution_count": null,
   "metadata": {
    "hidden": true
   },
   "outputs": [],
   "source": []
  },
  {
   "cell_type": "code",
   "execution_count": null,
   "metadata": {
    "hidden": true
   },
   "outputs": [],
   "source": []
  },
  {
   "cell_type": "code",
   "execution_count": null,
   "metadata": {
    "hidden": true
   },
   "outputs": [],
   "source": []
  },
  {
   "cell_type": "markdown",
   "metadata": {
    "heading_collapsed": true
   },
   "source": [
    "## 2. Visualize estimate $\\hat{\\tau}$ for unknown $\\tau$"
   ]
  },
  {
   "cell_type": "code",
   "execution_count": null,
   "metadata": {
    "hidden": true
   },
   "outputs": [],
   "source": []
  },
  {
   "cell_type": "code",
   "execution_count": null,
   "metadata": {
    "hidden": true
   },
   "outputs": [],
   "source": []
  },
  {
   "cell_type": "code",
   "execution_count": null,
   "metadata": {
    "hidden": true
   },
   "outputs": [],
   "source": []
  }
 ],
 "metadata": {
  "kernelspec": {
   "display_name": "Python 3",
   "language": "python",
   "name": "python3"
  },
  "language_info": {
   "codemirror_mode": {
    "name": "ipython",
    "version": 3
   },
   "file_extension": ".py",
   "mimetype": "text/x-python",
   "name": "python",
   "nbconvert_exporter": "python",
   "pygments_lexer": "ipython3",
   "version": "3.6.6"
  },
  "notify_time": "30",
  "varInspector": {
   "cols": {
    "lenName": 16,
    "lenType": 16,
    "lenVar": 40
   },
   "kernels_config": {
    "python": {
     "delete_cmd_postfix": "",
     "delete_cmd_prefix": "del ",
     "library": "var_list.py",
     "varRefreshCmd": "print(var_dic_list())"
    },
    "r": {
     "delete_cmd_postfix": ") ",
     "delete_cmd_prefix": "rm(",
     "library": "var_list.r",
     "varRefreshCmd": "cat(var_dic_list()) "
    }
   },
   "types_to_exclude": [
    "module",
    "function",
    "builtin_function_or_method",
    "instance",
    "_Feature"
   ],
   "window_display": false
  }
 },
 "nbformat": 4,
 "nbformat_minor": 2
}
