{
 "cells": [
  {
   "cell_type": "code",
   "execution_count": 1,
   "metadata": {
    "ExecuteTime": {
     "end_time": "2019-01-08T15:44:17.974735Z",
     "start_time": "2019-01-08T15:44:17.953173Z"
    }
   },
   "outputs": [],
   "source": [
    "%load_ext autoreload\n",
    "%autoreload 2"
   ]
  },
  {
   "cell_type": "code",
   "execution_count": 1,
   "metadata": {
    "ExecuteTime": {
     "end_time": "2019-01-11T15:52:05.772520Z",
     "start_time": "2019-01-11T15:52:04.073543Z"
    }
   },
   "outputs": [
    {
     "name": "stderr",
     "output_type": "stream",
     "text": [
      "/usr/local/lib/python3.6/importlib/_bootstrap.py:219: RuntimeWarning: numpy.dtype size changed, may indicate binary incompatibility. Expected 96, got 88\n",
      "  return f(*args, **kwds)\n",
      "/usr/local/lib/python3.6/importlib/_bootstrap.py:219: RuntimeWarning: numpy.dtype size changed, may indicate binary incompatibility. Expected 96, got 88\n",
      "  return f(*args, **kwds)\n"
     ]
    }
   ],
   "source": [
    "import os\n",
    "if not os.getcwd().endswith('CIoTS'):\n",
    "    os.chdir('../..')\n",
    "\n",
    "import numpy as np\n",
    "import pandas as pd\n",
    "import matplotlib.pyplot as plt\n",
    "from CIoTS import *"
   ]
  },
  {
   "cell_type": "markdown",
   "metadata": {},
   "source": [
    "# Execution"
   ]
  },
  {
   "cell_type": "code",
   "execution_count": 3,
   "metadata": {
    "ExecuteTime": {
     "end_time": "2019-01-08T15:44:20.438300Z",
     "start_time": "2019-01-08T15:44:20.392344Z"
    }
   },
   "outputs": [],
   "source": [
    "from itertools import product\n",
    "\n",
    "dimensions = [5, 10]\n",
    "incoming_edges = [2, 3, 4]\n",
    "taus = [5, 10, 15, 20]\n",
    "autocorrs = [False, True]\n",
    "data_length = [10000]\n",
    "runs = range(10)\n",
    "\n",
    "setups = list(product(dimensions, incoming_edges, taus, autocorrs, data_length, runs))"
   ]
  },
  {
   "cell_type": "markdown",
   "metadata": {},
   "source": [
    "## Data generation"
   ]
  },
  {
   "cell_type": "code",
   "execution_count": null,
   "metadata": {
    "ExecuteTime": {
     "start_time": "2019-01-08T15:44:17.783Z"
    },
    "code_folding": [],
    "scrolled": true
   },
   "outputs": [
    {
     "name": "stdout",
     "output_type": "stream",
     "text": [
      "5 2 5 False 10000 0 :  0.8383970260620117\n",
      "5 2 5 False 10000 1 :  0.8669145107269287\n",
      "5 2 5 False 10000 2 :  0.7247674465179443\n",
      "5 2 5 False 10000 3 :  0.9692258834838867\n",
      "5 2 5 False 10000 4 :  0.8276450634002686\n",
      "5 2 5 False 10000 5 :  0.8573360443115234\n",
      "5 2 5 False 10000 6 :  0.8274450302124023\n",
      "5 2 5 False 10000 7 :  0.7419185638427734\n",
      "5 2 5 False 10000 8 :  0.8861312866210938\n",
      "5 2 5 False 10000 9 :  0.8843722343444824\n",
      "5 2 5 True 10000 0 :  2.2469916343688965\n",
      "5 2 5 True 10000 1 :  1.2963590621948242\n",
      "5 2 5 True 10000 2 :  7.3804309368133545\n",
      "5 2 5 True 10000 3 :  3.251375198364258\n",
      "5 2 5 True 10000 4 :  1.3525314331054688\n",
      "5 2 5 True 10000 5 :  1.3898193836212158\n",
      "5 2 5 True 10000 6 :  2.7280759811401367\n",
      "5 2 5 True 10000 7 :  1.5089728832244873\n",
      "5 2 5 True 10000 8 :  2.5474071502685547\n",
      "5 2 5 True 10000 9 :  0.952197790145874\n",
      "5 2 10 False 10000 0 :  1.2818236351013184\n",
      "5 2 10 False 10000 1 :  1.1801097393035889\n",
      "5 2 10 False 10000 2 :  0.9702320098876953\n",
      "5 2 10 False 10000 3 :  0.9452879428863525\n",
      "5 2 10 False 10000 4 :  1.07206392288208\n",
      "5 2 10 False 10000 5 :  0.9543745517730713\n",
      "5 2 10 False 10000 6 :  1.187666893005371\n",
      "5 2 10 False 10000 7 :  1.0873916149139404\n",
      "5 2 10 False 10000 8 :  1.118462324142456\n",
      "5 2 10 False 10000 9 :  0.953026533126831\n",
      "5 2 10 True 10000 0 :  5.4832727909088135\n",
      "5 2 10 True 10000 1 :  1.1170384883880615\n",
      "5 2 10 True 10000 2 :  0.8643126487731934\n",
      "5 2 10 True 10000 3 :  8.654033899307251\n",
      "5 2 10 True 10000 4 :  5.115043640136719\n",
      "5 2 10 True 10000 5 :  1.5743296146392822\n",
      "5 2 10 True 10000 6 :  4.612671375274658\n",
      "5 2 10 True 10000 7 :  2.7391769886016846\n",
      "5 2 10 True 10000 8 :  2.815941095352173\n",
      "5 2 10 True 10000 9 :  24.36944603919983\n",
      "5 2 15 False 10000 0 :  1.232839584350586\n",
      "5 2 15 False 10000 1 :  1.5241138935089111\n",
      "5 2 15 False 10000 2 :  1.2803821563720703\n",
      "5 2 15 False 10000 3 :  1.3783228397369385\n",
      "5 2 15 False 10000 4 :  1.1332688331604004\n",
      "5 2 15 False 10000 5 :  1.1286041736602783\n",
      "5 2 15 False 10000 6 :  1.2723593711853027\n",
      "5 2 15 False 10000 7 :  1.2390937805175781\n",
      "5 2 15 False 10000 8 :  1.501753568649292\n",
      "5 2 15 False 10000 9 :  1.1946873664855957\n",
      "5 2 15 True 10000 0 :  2.5548253059387207\n",
      "5 2 15 True 10000 1 :  28.01447629928589\n",
      "5 2 15 True 10000 2 :  3.8834469318389893\n",
      "5 2 15 True 10000 3 :  21.602017641067505\n",
      "5 2 15 True 10000 4 :  11.592886924743652\n",
      "5 2 15 True 10000 5 :  21.127689123153687\n",
      "5 2 15 True 10000 6 :  1.9497287273406982\n",
      "5 2 15 True 10000 7 :  12.784241437911987\n",
      "5 2 15 True 10000 8 :  37.82950949668884\n",
      "5 2 15 True 10000 9 :  7.153781414031982\n",
      "5 2 20 False 10000 0 :  1.3082690238952637\n",
      "5 2 20 False 10000 1 :  1.4817731380462646\n",
      "5 2 20 False 10000 2 :  1.8535990715026855\n",
      "5 2 20 False 10000 3 :  1.5628752708435059\n",
      "5 2 20 False 10000 4 :  1.602062463760376\n",
      "5 2 20 False 10000 5 :  1.5224947929382324\n",
      "5 2 20 False 10000 6 :  1.613265037536621\n",
      "5 2 20 False 10000 7 :  1.7018628120422363\n",
      "5 2 20 False 10000 8 :  1.5510737895965576\n",
      "5 2 20 False 10000 9 :  1.6952762603759766\n",
      "5 2 20 True 10000 0 :  9.725083112716675\n",
      "5 2 20 True 10000 1 :  23.645302534103394\n",
      "5 2 20 True 10000 2 :  60.24642586708069\n",
      "5 2 20 True 10000 3 :  38.16376709938049\n",
      "5 2 20 True 10000 4 :  5.616799354553223\n",
      "5 2 20 True 10000 5 :  8.691580057144165\n",
      "5 2 20 True 10000 6 :  29.473208904266357\n",
      "5 2 20 True 10000 7 :  20.78727102279663\n",
      "5 2 20 True 10000 8 :  12.693704605102539\n",
      "5 2 20 True 10000 9 :  46.08435368537903\n",
      "5 3 5 False 10000 0 :  1.6403131484985352\n",
      "5 3 5 False 10000 1 :  1.9831149578094482\n",
      "5 3 5 False 10000 2 :  1.0711090564727783\n",
      "5 3 5 False 10000 3 :  2.485534191131592\n",
      "5 3 5 False 10000 4 :  3.378507614135742\n",
      "5 3 5 False 10000 5 :  1.7804818153381348\n",
      "5 3 5 False 10000 6 :  1.0439035892486572\n",
      "5 3 5 False 10000 7 :  3.7458207607269287\n",
      "5 3 5 False 10000 8 :  1.0354948043823242\n",
      "5 3 5 False 10000 9 :  4.501061677932739\n",
      "5 3 5 True 10000 0 :  34.3412446975708\n",
      "5 3 5 True 10000 1 :  58.572001457214355\n",
      "5 3 5 True 10000 2 :  41.145658016204834\n",
      "5 3 5 True 10000 3 :  280.4491436481476\n",
      "5 3 5 True 10000 4 :  29.352474451065063\n",
      "5 3 5 True 10000 5 :  2.822293758392334\n",
      "5 3 5 True 10000 6 :  182.6953628063202\n",
      "5 3 5 True 10000 7 :  27.078155755996704\n",
      "5 3 5 True 10000 8 :  22.928805828094482\n",
      "5 3 5 True 10000 9 :  109.19731450080872\n",
      "5 3 10 False 10000 0 :  16.35193371772766\n",
      "5 3 10 False 10000 1 :  1.3119795322418213\n",
      "5 3 10 False 10000 2 :  1.9003183841705322\n",
      "5 3 10 False 10000 3 :  4.09332799911499\n",
      "5 3 10 False 10000 4 :  2.2586214542388916\n",
      "5 3 10 False 10000 5 :  9.755826234817505\n",
      "5 3 10 False 10000 6 :  2.8337860107421875\n",
      "5 3 10 False 10000 7 :  7.525116443634033\n",
      "5 3 10 False 10000 8 :  3.799295425415039\n",
      "5 3 10 False 10000 9 :  4.862023115158081\n",
      "5 3 10 True 10000 0 :  743.7570457458496\n",
      "5 3 10 True 10000 1 :  462.71665716171265\n",
      "5 3 10 True 10000 2 :  137.31866931915283\n",
      "5 3 10 True 10000 3 :  28.18405270576477\n",
      "5 3 10 True 10000 4 :  591.8303768634796\n",
      "5 3 10 True 10000 5 :  39.160000801086426\n",
      "5 3 10 True 10000 6 :  209.3034429550171\n",
      "5 3 10 True 10000 7 :  179.33971095085144\n",
      "5 3 10 True 10000 8 :  186.18196058273315\n",
      "5 3 10 True 10000 9 :  1871.0220363140106\n",
      "5 3 15 False 10000 0 :  6.833343267440796\n",
      "5 3 15 False 10000 1 :  22.969712257385254\n",
      "5 3 15 False 10000 2 :  10.063116550445557\n",
      "5 3 15 False 10000 3 :  12.216645956039429\n",
      "5 3 15 False 10000 4 :  67.96200585365295\n",
      "5 3 15 False 10000 5 :  45.39027166366577\n",
      "5 3 15 False 10000 6 :  15.343526840209961\n",
      "5 3 15 False 10000 7 :  3.0960230827331543\n",
      "5 3 15 False 10000 8 :  21.047120571136475\n",
      "5 3 15 False 10000 9 :  2.6768879890441895\n",
      "5 3 15 True 10000 0 :  1531.0545420646667\n",
      "5 3 15 True 10000 1 :  3766.1280496120453\n",
      "5 3 15 True 10000 2 :  971.7436752319336\n",
      "5 3 15 True 10000 3 :  6095.904109716415\n",
      "5 3 15 True 10000 4 :  2492.810054540634\n",
      "5 3 15 True 10000 5 :  990.3256649971008\n",
      "5 3 15 True 10000 6 :  163.41491198539734\n",
      "5 3 15 True 10000 7 :  258.4808204174042\n",
      "5 3 15 True 10000 8 :  866.0564143657684\n",
      "5 3 15 True 10000 9 :  371.28248286247253\n",
      "5 3 20 False 10000 0 :  127.36448860168457\n",
      "5 3 20 False 10000 1 :  8.765410900115967\n",
      "5 3 20 False 10000 2 :  30.663705348968506\n",
      "5 3 20 False 10000 3 :  11.777273416519165\n",
      "5 3 20 False 10000 4 :  17.93888831138611\n",
      "5 3 20 False 10000 5 :  35.79280948638916\n",
      "5 3 20 False 10000 6 :  49.310141801834106\n",
      "5 3 20 False 10000 7 :  17.51198410987854\n",
      "5 3 20 False 10000 8 :  18.932865381240845\n",
      "5 3 20 False 10000 9 :  26.449008226394653\n",
      "5 3 20 True 10000 0 :  48.23385572433472\n",
      "5 3 20 True 10000 1 :  6483.116667032242\n",
      "5 3 20 True 10000 2 :  11270.570739746094\n",
      "5 3 20 True 10000 3 :  2259.098877429962\n",
      "5 3 20 True 10000 4 :  9147.251336336136\n"
     ]
    }
   ],
   "source": [
    "import pickle\n",
    "from time import time\n",
    "data_path = 'notebooks/ICML/icml_data/'\n",
    "\n",
    "for dim, in_edges, tau, autocorr, data_length, run in setups:    \n",
    "    \n",
    "    generator = CausalTSGenerator(dimensions=dim, max_p=tau, data_length=data_length,\n",
    "                                  incoming_edges=in_edges, autocorrelation=autocorr)\n",
    "    start = time()\n",
    "    ts = generator.generate()\n",
    "    elapsed = time() - start\n",
    "    \n",
    "    with open(data_path + f't={tau}_d={dim}_in={in_edges}_autocorr={autocorr}_{run}.pickle', 'wb') as f:\n",
    "        pickle.dump(generator, f)\n",
    "        \n",
    "    print(dim, in_edges, tau, autocorr, data_length, run, ': ', elapsed)"
   ]
  },
  {
   "cell_type": "code",
   "execution_count": null,
   "metadata": {},
   "outputs": [],
   "source": []
  }
 ],
 "metadata": {
  "kernelspec": {
   "display_name": "Python 3",
   "language": "python",
   "name": "python3"
  },
  "language_info": {
   "codemirror_mode": {
    "name": "ipython",
    "version": 3
   },
   "file_extension": ".py",
   "mimetype": "text/x-python",
   "name": "python",
   "nbconvert_exporter": "python",
   "pygments_lexer": "ipython3",
   "version": "3.6.6"
  },
  "notify_time": "30",
  "varInspector": {
   "cols": {
    "lenName": 16,
    "lenType": 16,
    "lenVar": 40
   },
   "kernels_config": {
    "python": {
     "delete_cmd_postfix": "",
     "delete_cmd_prefix": "del ",
     "library": "var_list.py",
     "varRefreshCmd": "print(var_dic_list())"
    },
    "r": {
     "delete_cmd_postfix": ") ",
     "delete_cmd_prefix": "rm(",
     "library": "var_list.r",
     "varRefreshCmd": "cat(var_dic_list()) "
    }
   },
   "types_to_exclude": [
    "module",
    "function",
    "builtin_function_or_method",
    "instance",
    "_Feature"
   ],
   "window_display": false
  }
 },
 "nbformat": 4,
 "nbformat_minor": 2
}
