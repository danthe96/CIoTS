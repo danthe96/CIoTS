{
 "cells": [
  {
   "cell_type": "code",
   "execution_count": 1,
   "metadata": {
    "ExecuteTime": {
     "end_time": "2019-01-08T15:47:46.620242Z",
     "start_time": "2019-01-08T15:47:46.596352Z"
    }
   },
   "outputs": [],
   "source": [
    "%load_ext autoreload\n",
    "%autoreload 2"
   ]
  },
  {
   "cell_type": "code",
   "execution_count": 2,
   "metadata": {
    "ExecuteTime": {
     "end_time": "2019-01-08T15:47:49.405403Z",
     "start_time": "2019-01-08T15:47:46.624126Z"
    }
   },
   "outputs": [
    {
     "name": "stderr",
     "output_type": "stream",
     "text": [
      "/usr/local/lib/python3.6/importlib/_bootstrap.py:219: RuntimeWarning: numpy.dtype size changed, may indicate binary incompatibility. Expected 96, got 88\n",
      "  return f(*args, **kwds)\n",
      "/usr/local/lib/python3.6/importlib/_bootstrap.py:219: RuntimeWarning: numpy.dtype size changed, may indicate binary incompatibility. Expected 96, got 88\n",
      "  return f(*args, **kwds)\n"
     ]
    }
   ],
   "source": [
    "import os\n",
    "if not os.getcwd().endswith('CIoTS'):\n",
    "    os.chdir('../..')\n",
    "\n",
    "import numpy as np\n",
    "import pandas as pd\n",
    "import matplotlib.pyplot as plt\n",
    "from CIoTS import *"
   ]
  },
  {
   "cell_type": "markdown",
   "metadata": {},
   "source": [
    "# Execution"
   ]
  },
  {
   "cell_type": "code",
   "execution_count": 3,
   "metadata": {
    "ExecuteTime": {
     "end_time": "2019-01-08T15:47:49.464837Z",
     "start_time": "2019-01-08T15:47:49.412103Z"
    }
   },
   "outputs": [],
   "source": [
    "from itertools import product\n",
    "\n",
    "dimensions = [10]\n",
    "incoming_edges = [2, 3, 4]\n",
    "taus = [5, 10, 15, 20]\n",
    "autocorrs = [False, True]\n",
    "data_length = [10000]\n",
    "runs = range(10)\n",
    "\n",
    "setups = list(product(dimensions, incoming_edges, taus, autocorrs, data_length, runs))"
   ]
  },
  {
   "cell_type": "markdown",
   "metadata": {},
   "source": [
    "## Data generation"
   ]
  },
  {
   "cell_type": "code",
   "execution_count": null,
   "metadata": {
    "ExecuteTime": {
     "start_time": "2019-01-08T15:47:46.431Z"
    },
    "code_folding": [],
    "scrolled": true
   },
   "outputs": [
    {
     "name": "stdout",
     "output_type": "stream",
     "text": [
      "10 2 5 False 10000 0 :  1.7980706691741943\n",
      "10 2 5 False 10000 1 :  1.6531894207000732\n",
      "10 2 5 False 10000 2 :  1.5565989017486572\n",
      "10 2 5 False 10000 3 :  1.3467214107513428\n",
      "10 2 5 False 10000 4 :  1.1346359252929688\n",
      "10 2 5 False 10000 5 :  1.4241878986358643\n",
      "10 2 5 False 10000 6 :  1.0757393836975098\n",
      "10 2 5 False 10000 7 :  1.3510358333587646\n",
      "10 2 5 False 10000 8 :  0.9584207534790039\n",
      "10 2 5 False 10000 9 :  1.1140131950378418\n",
      "10 2 5 True 10000 0 :  114.47459983825684\n",
      "10 2 5 True 10000 1 :  27.4202241897583\n",
      "10 2 5 True 10000 2 :  25.1583468914032\n",
      "10 2 5 True 10000 3 :  14.588324069976807\n",
      "10 2 5 True 10000 4 :  43.00762414932251\n",
      "10 2 5 True 10000 5 :  451.8097550868988\n",
      "10 2 5 True 10000 6 :  34.00444483757019\n",
      "10 2 5 True 10000 7 :  3.012159585952759\n",
      "10 2 5 True 10000 8 :  57.92582297325134\n",
      "10 2 5 True 10000 9 :  195.08311533927917\n",
      "10 2 10 False 10000 0 :  1.5907065868377686\n",
      "10 2 10 False 10000 1 :  1.3324978351593018\n",
      "10 2 10 False 10000 2 :  1.4044663906097412\n",
      "10 2 10 False 10000 3 :  2.5915944576263428\n",
      "10 2 10 False 10000 4 :  1.2982721328735352\n",
      "10 2 10 False 10000 5 :  1.8022897243499756\n",
      "10 2 10 False 10000 6 :  1.7046425342559814\n",
      "10 2 10 False 10000 7 :  1.5555596351623535\n",
      "10 2 10 False 10000 8 :  1.563610553741455\n",
      "10 2 10 False 10000 9 :  1.8238496780395508\n",
      "10 2 10 True 10000 0 :  198.88664388656616\n",
      "10 2 10 True 10000 1 :  95.7665798664093\n",
      "10 2 10 True 10000 2 :  349.792049407959\n",
      "10 2 10 True 10000 3 :  16.85127592086792\n",
      "10 2 10 True 10000 4 :  80.00450658798218\n",
      "10 2 10 True 10000 5 :  247.57792448997498\n",
      "10 2 10 True 10000 6 :  1481.2856142520905\n",
      "10 2 10 True 10000 7 :  79.81750297546387\n",
      "10 2 10 True 10000 8 :  219.8571743965149\n",
      "10 2 10 True 10000 9 :  421.77876234054565\n",
      "10 2 15 False 10000 0 :  1.6479854583740234\n",
      "10 2 15 False 10000 1 :  3.533594846725464\n",
      "10 2 15 False 10000 2 :  1.8467624187469482\n",
      "10 2 15 False 10000 3 :  1.7091724872589111\n",
      "10 2 15 False 10000 4 :  2.3178586959838867\n",
      "10 2 15 False 10000 5 :  1.5590031147003174\n",
      "10 2 15 False 10000 6 :  3.3365392684936523\n",
      "10 2 15 False 10000 7 :  1.7902657985687256\n",
      "10 2 15 False 10000 8 :  1.829773187637329\n",
      "10 2 15 False 10000 9 :  4.212443828582764\n",
      "10 2 15 True 10000 0 :  702.8017168045044\n",
      "10 2 15 True 10000 1 :  1507.7320642471313\n",
      "10 2 15 True 10000 2 :  2912.230044603348\n",
      "10 2 15 True 10000 3 :  501.80190682411194\n",
      "10 2 15 True 10000 4 :  2117.4856910705566\n",
      "10 2 15 True 10000 5 :  414.5310444831848\n",
      "10 2 15 True 10000 6 :  1336.502979516983\n",
      "10 2 15 True 10000 7 :  354.76266074180603\n",
      "10 2 15 True 10000 8 :  2733.752462863922\n",
      "10 2 15 True 10000 9 :  278.7864212989807\n",
      "10 2 20 False 10000 0 :  17.135807037353516\n",
      "10 2 20 False 10000 1 :  4.32259464263916\n",
      "10 2 20 False 10000 2 :  5.634233713150024\n",
      "10 2 20 False 10000 3 :  12.558897972106934\n",
      "10 2 20 False 10000 4 :  4.293824911117554\n",
      "10 2 20 False 10000 5 :  9.490685939788818\n",
      "10 2 20 False 10000 6 :  15.286385774612427\n",
      "10 2 20 False 10000 7 :  5.239836931228638\n",
      "10 2 20 False 10000 8 :  8.312063694000244\n",
      "10 2 20 False 10000 9 :  8.715867042541504\n",
      "10 2 20 True 10000 0 :  12617.63456606865\n",
      "10 2 20 True 10000 1 :  10767.187073230743\n",
      "10 2 20 True 10000 2 :  8401.688921689987\n",
      "10 2 20 True 10000 3 :  2045.0815660953522\n",
      "10 2 20 True 10000 4 :  10905.768125295639\n"
     ]
    }
   ],
   "source": [
    "import pickle\n",
    "from time import time\n",
    "data_path = 'notebooks/ICML/icml_data/'\n",
    "\n",
    "for dim, in_edges, tau, autocorr, data_length, run in setups:    \n",
    "    \n",
    "    generator = CausalTSGenerator(dimensions=dim, max_p=tau, data_length=data_length,\n",
    "                                  incoming_edges=in_edges, autocorrelation=autocorr)\n",
    "    start = time()\n",
    "    ts = generator.generate()\n",
    "    elapsed = time() - start\n",
    "    \n",
    "    with open(data_path + f't={tau}_d={dim}_in={in_edges}_autocorr={autocorr}_{run}.pickle', 'wb') as f:\n",
    "        pickle.dump(generator, f)\n",
    "        \n",
    "    print(dim, in_edges, tau, autocorr, data_length, run, ': ', elapsed)"
   ]
  },
  {
   "cell_type": "code",
   "execution_count": null,
   "metadata": {},
   "outputs": [],
   "source": []
  }
 ],
 "metadata": {
  "kernelspec": {
   "display_name": "Python 3",
   "language": "python",
   "name": "python3"
  },
  "language_info": {
   "codemirror_mode": {
    "name": "ipython",
    "version": 3
   },
   "file_extension": ".py",
   "mimetype": "text/x-python",
   "name": "python",
   "nbconvert_exporter": "python",
   "pygments_lexer": "ipython3",
   "version": "3.6.6"
  },
  "notify_time": "30",
  "varInspector": {
   "cols": {
    "lenName": 16,
    "lenType": 16,
    "lenVar": 40
   },
   "kernels_config": {
    "python": {
     "delete_cmd_postfix": "",
     "delete_cmd_prefix": "del ",
     "library": "var_list.py",
     "varRefreshCmd": "print(var_dic_list())"
    },
    "r": {
     "delete_cmd_postfix": ") ",
     "delete_cmd_prefix": "rm(",
     "library": "var_list.r",
     "varRefreshCmd": "cat(var_dic_list()) "
    }
   },
   "types_to_exclude": [
    "module",
    "function",
    "builtin_function_or_method",
    "instance",
    "_Feature"
   ],
   "window_display": false
  }
 },
 "nbformat": 4,
 "nbformat_minor": 2
}
