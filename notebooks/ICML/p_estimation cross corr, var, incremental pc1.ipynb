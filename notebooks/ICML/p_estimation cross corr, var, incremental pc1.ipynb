{
 "cells": [
  {
   "cell_type": "code",
   "execution_count": 4,
   "metadata": {},
   "outputs": [
    {
     "name": "stdout",
     "output_type": "stream",
     "text": [
      "The autoreload extension is already loaded. To reload it, use:\n",
      "  %reload_ext autoreload\n"
     ]
    }
   ],
   "source": [
    "%load_ext autoreload\n",
    "%autoreload 2"
   ]
  },
  {
   "cell_type": "code",
   "execution_count": 5,
   "metadata": {},
   "outputs": [],
   "source": [
    "import matplotlib.pyplot as plt\n",
    "import pandas as pd\n",
    "import networkx as nx\n",
    "import numpy as np\n",
    "from math import log\n",
    "from CIoTS import *\n",
    "import json\n",
    "from time import time\n",
    "import random"
   ]
  },
  {
   "cell_type": "code",
   "execution_count": 6,
   "metadata": {},
   "outputs": [],
   "source": [
    "runs = 20\n",
    "p_range = [5, 10, 15, 20] \n",
    "dimensions_range = [3, 5, 10]\n",
    "in_edges_range = [2, 4, 6]\n",
    "data_length = 10000\n",
    "test_length = 2000\n",
    "alpha = 0.05\n",
    "auto_corr = 0.75\n",
    "patience = 2*max(p_range)\n",
    "p_max = 2*max(p_range)\n",
    "\n",
    "result_dir = 'results/p_estimation/'"
   ]
  },
  {
   "cell_type": "code",
   "execution_count": null,
   "metadata": {},
   "outputs": [
    {
     "name": "stdout",
     "output_type": "stream",
     "text": [
      "2 5 3 done\n"
     ]
    }
   ],
   "source": [
    "#### PC1 incremental\n",
    "\n",
    "results_pc1 = []\n",
    "for incoming_edges in in_edges_range:\n",
    "    for p in p_range:\n",
    "        for dimensions in dimensions_range:\n",
    "            setting = {'dim': dimensions, 'p': p, 'in_edges': incoming_edges, 'auto_corr': auto_corr,\n",
    "                       'patience': patience, 'p_max': p_max, 'alpha': alpha, 'experiments': []}\n",
    "            for run in range(runs):\n",
    "                generator = CausalTSGenerator(dimensions=dimensions, max_p=p, data_length=data_length+test_length,\n",
    "                                              incoming_edges=incoming_edges, autocorrelation=auto_corr)\n",
    "                ts_all = generator.generate()\n",
    "                ts = ts_all[:data_length]\n",
    "                ts_test = ts_all[data_length:]\n",
    "\n",
    "                rand_suffix = random.randint(0, 2e16-1)\n",
    "                csv_name = f'data/{p}_{dimensions}_{incoming_edges}_{run}_{rand_suffix}.csv'\n",
    "                csv_test_name = f'data/test_{p}_{dimensions}_{incoming_edges}_{run}_{rand_suffix}.csv'\n",
    "                \n",
    "                experiment = {'true_graph': nx.to_dict_of_lists(generator.graph), 'data': csv_name,\n",
    "                              'test_data': csv_test_name, 'iterations': []}\n",
    "\n",
    "                _, graphs, times, bics, _, _ = pc_incremental_pc1(partial_corr_test, ts, alpha, p_max, \n",
    "                                                                  verbose=True, patiency=patience)\n",
    "                \n",
    "                for p_iter, graph in graphs.items():\n",
    "                    test_var = VAR(p_iter)\n",
    "                    nm, dm = transform_ts(ts, p_iter)\n",
    "                    test_var.fit_from_graph(dimensions, dm, graph, nm)\n",
    "                    test_mse, test_bic = test_var.evaluate_test_set(ts_test[:p_iter], ts_test[p_iter:])\n",
    "                    experiment['iterations'].append({'p_iter': p_iter, 'bic': bics[p_iter], 'time': times[p_iter],\n",
    "                                                     'graph': nx.to_dict_of_lists(graph), 'test_mse': test_mse,\n",
    "                                                     'test_bic': test_bic})\n",
    "\n",
    "                ts.to_csv(result_dir+csv_name, index=False)\n",
    "                ts_test.to_csv(result_dir+csv_test_name, index=False)\n",
    "                setting['experiments'].append(experiment)\n",
    "\n",
    "                \n",
    "            print(f'{incoming_edges} {p} {dimensions} done')\n",
    "            \n",
    "            results_pc1.append(setting)\n",
    "            with open(result_dir+'estimates_pc1.json', 'w') as f:\n",
    "                json.dump(results_pc1, f)"
   ]
  },
  {
   "cell_type": "code",
   "execution_count": null,
   "metadata": {},
   "outputs": [],
   "source": [
    "### PC1 with VAR for p estimation\n",
    "\n",
    "with open(result_dir+'estimates_pc1.json', 'r') as f:\n",
    "    results_var = json.load(f)\n",
    "\n",
    "for setting in results_var:\n",
    "    for experiment in setting['experiments']:\n",
    "        del experiment['iterations']    \n",
    "    \n",
    "for setting in results_var:\n",
    "    for experiment in setting['experiments']:\n",
    "        experiment['estimates'] = []\n",
    "        ts = pd.read_csv(result_dir+experiment['data'])\n",
    "        ts_test = pd.read_csv(result_dir+experiment['test_data'])\n",
    "        \n",
    "        start_time = time()\n",
    "        var_ranking, var_scores = var_order_select(ts, setting['p_max'], ['bic']) \n",
    "        end_time = time()\n",
    "        \n",
    "        for p_est, score in zip(var_ranking['bic'], var_scores['bic']):\n",
    "            _, graphs, times, bics, _, _ = pc_incremental_pc1(partial_corr_test, ts, setting['alpha'], p_est+1, \n",
    "                                                              verbose=True, patiency=0, steps=p_est)\n",
    "            # based on data\n",
    "            test_var = VAR(p_est)\n",
    "            test_var.fit(ts)\n",
    "            var_test_mse, var_test_bic = test_var.evaluate_test_set(ts_test[:p_est], ts_test[p_est:])\n",
    "            \n",
    "            # based on graph\n",
    "            test_var = VAR(p_est)\n",
    "            nm, dm = transform_ts(ts, p_est)\n",
    "            test_var.fit_from_graph(setting['dim'], dm, graphs[p_est], nm)\n",
    "            test_mse, test_bic = test_var.evaluate_test_set(ts_test[:p_est], ts_test[p_est:])\n",
    "            \n",
    "            experiment['estimates'].append({'p_est': p_est, 'time_pc1': times[p_est], \n",
    "                                            'time_var': end_time-start_time, 'graph': nx.to_dict_of_lists(graphs[p_est]),\n",
    "                                            'bic': bics[p_est], 'var_bic': score, \n",
    "                                            'test_bic': test_bic, 'var_test_bic': var_test_bic,\n",
    "                                            'test_mse': test_mse, 'var_test_mse': var_test_mse})\n",
    "            \n",
    "    incoming_edges = setting['in_edges']\n",
    "    p = setting['p']\n",
    "    print(f'{incoming_edges} {p} done')\n",
    "\n",
    "    with open(result_dir+'estimates_var.json', 'w') as f:\n",
    "        json.dump(results_var, f)"
   ]
  },
  {
   "cell_type": "code",
   "execution_count": null,
   "metadata": {},
   "outputs": [],
   "source": [
    "### PC1 with cross correlation for p estimation\n",
    "\n",
    "peak_range = [1, 2, 3]\n",
    "\n",
    "with open(result_dir+'estimates_pc1.json', 'r') as f:\n",
    "    results_cross_corr = json.load(f)\n",
    "\n",
    "for setting in results_cross_corr:\n",
    "    for experiment in setting['experiments']:\n",
    "        del experiment['iterations']   \n",
    "    \n",
    "for setting in results_cross_corr:\n",
    "    for experiment in setting['experiments']:\n",
    "        experiment['estimates'] = []\n",
    "        ts = pd.read_csv(result_dir+experiment['data'])\n",
    "        \n",
    "        for peaks in peak_range:\n",
    "            \n",
    "            start_time = time()\n",
    "            p_est = int(cross_corr_peaks(ts, n_peaks=peaks))\n",
    "            _, graphs, times, bics, _, _ = pc_incremental_pc1(partial_corr_test, ts, setting['alpha'], p_est+1, \n",
    "                                                              verbose=True, patiency=0, steps=p_est)\n",
    "            end_time = time()\n",
    "            experiment['estimates'].append({'p_est': p_est, 'bic': bics[p_est], 'time_pc1': times[p_est], 'peak': peaks,\n",
    "                                            'time': end_time-start_time, 'graph': nx.to_dict_of_lists(graphs[p_est])})\n",
    "            \n",
    "    incoming_edges = setting['in_edges']\n",
    "    p = setting['p']\n",
    "    print(f'{incoming_edges} {p} done')\n",
    "\n",
    "    with open(result_dir+'estimates_cross_corr.json', 'w') as f:\n",
    "        json.dump(results_cross_corr, f)"
   ]
  },
  {
   "cell_type": "code",
   "execution_count": null,
   "metadata": {},
   "outputs": [],
   "source": [
    "5"
   ]
  },
  {
   "cell_type": "code",
   "execution_count": null,
   "metadata": {},
   "outputs": [],
   "source": []
  }
 ],
 "metadata": {
  "kernelspec": {
   "display_name": "Python 3",
   "language": "python",
   "name": "python3"
  },
  "language_info": {
   "codemirror_mode": {
    "name": "ipython",
    "version": 3
   },
   "file_extension": ".py",
   "mimetype": "text/x-python",
   "name": "python",
   "nbconvert_exporter": "python",
   "pygments_lexer": "ipython3",
   "version": "3.6.6"
  }
 },
 "nbformat": 4,
 "nbformat_minor": 2
}
