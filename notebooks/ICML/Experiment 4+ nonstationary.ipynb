{
 "cells": [
  {
   "cell_type": "code",
   "execution_count": 1,
   "metadata": {
    "ExecuteTime": {
     "end_time": "2019-01-31T12:36:40.295032Z",
     "start_time": "2019-01-31T12:36:40.275001Z"
    }
   },
   "outputs": [],
   "source": [
    "%load_ext autoreload\n",
    "%autoreload 2"
   ]
  },
  {
   "cell_type": "code",
   "execution_count": 2,
   "metadata": {
    "ExecuteTime": {
     "end_time": "2019-01-31T12:36:43.849445Z",
     "start_time": "2019-01-31T12:36:41.268239Z"
    }
   },
   "outputs": [
    {
     "name": "stderr",
     "output_type": "stream",
     "text": [
      "/usr/local/lib/python3.6/importlib/_bootstrap.py:219: RuntimeWarning: numpy.dtype size changed, may indicate binary incompatibility. Expected 96, got 88\n",
      "  return f(*args, **kwds)\n",
      "/usr/local/lib/python3.6/importlib/_bootstrap.py:219: RuntimeWarning: numpy.dtype size changed, may indicate binary incompatibility. Expected 96, got 88\n",
      "  return f(*args, **kwds)\n"
     ]
    },
    {
     "name": "stdout",
     "output_type": "stream",
     "text": [
      "Could not import r-package RCIT\n",
      "Could not import r-package acepack for GPACE, use python ACE package\n",
      "Could not import python ACE package for GPACE\n"
     ]
    }
   ],
   "source": [
    "import os\n",
    "if not os.getcwd().endswith('CIoTS'):\n",
    "    os.chdir('../..')\n",
    "\n",
    "import numpy as np\n",
    "import pandas as pd\n",
    "import matplotlib.pyplot as plt\n",
    "from CIoTS import *\n",
    "import networkx as nx"
   ]
  },
  {
   "cell_type": "code",
   "execution_count": 3,
   "metadata": {
    "ExecuteTime": {
     "end_time": "2019-01-31T12:36:44.318299Z",
     "start_time": "2019-01-31T12:36:44.286215Z"
    }
   },
   "outputs": [],
   "source": [
    "from itertools import product\n",
    "\n",
    "dimensions = [3,5,10]\n",
    "incoming_edges = [2, 3, 4]\n",
    "taus = [5, 10, 15, 20]\n",
    "autocorrs = [False, True]\n",
    "data_length = [10000]\n",
    "runs = range(10)\n",
    "\n",
    "setups = list(product(dimensions, incoming_edges, taus, autocorrs, data_length, runs))"
   ]
  },
  {
   "cell_type": "markdown",
   "metadata": {},
   "source": [
    "# Experiment 4"
   ]
  },
  {
   "cell_type": "code",
   "execution_count": null,
   "metadata": {
    "ExecuteTime": {
     "start_time": "2019-01-31T12:37:10.991Z"
    }
   },
   "outputs": [
    {
     "name": "stderr",
     "output_type": "stream",
     "text": [
      "/home/Daniel.Thevessen/Causality/CIoTS/CIoTS/evaluation.py:123: RuntimeWarning: Mean of empty slice.\n",
      "  mse_fp = se[(true_params == 0) & (est_params != 0)].mean()\n",
      "/home/Daniel.Thevessen/.local/lib/python3.6/site-packages/numpy/core/_methods.py:85: RuntimeWarning: invalid value encountered in double_scalars\n",
      "  ret = ret.dtype.type(ret / rcount)\n"
     ]
    }
   ],
   "source": [
    "import pickle\n",
    "\n",
    "\n",
    "def graph2Var(graph, dim, tau, mapping):\n",
    "    inverted_mapping = {v: k for k, v in mapping.items()}\n",
    "    params = np.zeros((dim * tau, dim))\n",
    "\n",
    "    for x_t in range(dim):\n",
    "        input_nodes = list(graph.predecessors(mapping[x_t]))\n",
    "        inputs = np.array([inverted_mapping[x] for x in input_nodes])\n",
    "        for i in inputs:\n",
    "            params[i - dim, x_t] = graph.edges[(mapping[i], mapping[x_t])]['weight']\n",
    "    return params\n",
    "\n",
    "data_path = 'notebooks/ICML/nonstationary_data/'\n",
    "results_path = 'notebooks/ICML/icml_results_nonstationary/'\n",
    "results = pd.DataFrame()\n",
    "\n",
    "names = ['PC1 incremental', 'PC extensive', 'PC incremental', 'PCMCI incremental']\n",
    "\n",
    "for dim, in_edges, tau, autocorr, _, run in setups:\n",
    "    generator = pickle.load(open(data_path + f't={tau}_d={dim}_in={in_edges}_autocorr={autocorr}_{run}.pickle', 'rb'))\n",
    "    algo_graphs = pickle.load(open(results_path + 'exp3_graphs/' + \n",
    "                                   f'graphs-t={tau}_d={dim}_in={in_edges}_autocorr={autocorr}_{run}.pickle', 'rb'))\n",
    "    max_tau = 2*tau\n",
    "    df_dict = {'dimension': [dim]*max_tau, 'max time lag': [tau]*max_tau, 'incoming edges': [in_edges]*max_tau, \n",
    "               'run': [run]*max_tau, 'autocorr': [autocorr]*max_tau, 'tau estimate': list(range(1, max_tau+1))}\n",
    "    \n",
    "    true_mapping, true_matrix = transform_ts(generator.ts, tau)\n",
    "    true_params = graph2Var(generator.graph, dim, tau, true_mapping)\n",
    "    \n",
    "    # each algorithm\n",
    "    for name in names:\n",
    "        df_dict[name+' - MSE full'] = []\n",
    "        df_dict[name+' - MSE TR'] = []\n",
    "        df_dict[name+' - MSE FP'] = []\n",
    "        graphs = algo_graphs[name]\n",
    "        \n",
    "        assert len(graphs) == max_tau\n",
    "        for est_tau, graph in graphs.items():\n",
    "            model = VAR(est_tau)\n",
    "            node_mapping, data_matrix = transform_ts(generator.ts, est_tau)\n",
    "            model.fit_from_graph(dim, data_matrix, graph, node_mapping)\n",
    "            est_params = model.params[1:]\n",
    "            mse_full, mse_tr, mse_fp = evaluate_parameters(true_params, est_params)\n",
    "            df_dict[name+' - MSE full'].append(mse_full)\n",
    "            df_dict[name+' - MSE TR'].append(mse_tr)\n",
    "            df_dict[name+' - MSE FP'].append(mse_fp)\n",
    "    \n",
    "    # VAR for different tau'\n",
    "    df_dict['complete VAR - MSE full'] = []\n",
    "    df_dict['complete VAR - MSE TR'] = []\n",
    "    df_dict['complete VAR - MSE FP'] = []\n",
    "    for est_tau in range(1, max_tau+1):\n",
    "        model = VAR(est_tau)\n",
    "        model.fit(generator.ts)\n",
    "        est_params = model.params[1:]\n",
    "        mse_full, mse_tr, mse_fp = evaluate_parameters(true_params, est_params)\n",
    "        df_dict['complete VAR - MSE full'].append(mse_full)\n",
    "        df_dict['complete VAR - MSE TR'].append(mse_tr)\n",
    "        df_dict['complete VAR - MSE FP'].append(mse_fp)\n",
    "    \n",
    "    # True Graph VAR\n",
    "    model = VAR(tau)\n",
    "    model.fit_from_graph(dim, true_matrix, generator.graph, true_mapping)\n",
    "    est_params = model.params[1:]\n",
    "    df_dict['true Graph'] = [evaluate_parameters(true_params, est_params)] * max_tau\n",
    "    \n",
    "    df = pd.DataFrame(df_dict)\n",
    "    results = results.append(df)\n",
    "    \n",
    "    results.to_csv(results_path + f'experiment4.csv', index=False)\n",
    "    "
   ]
  },
  {
   "cell_type": "markdown",
   "metadata": {},
   "source": [
    "### Aggregate experiment4"
   ]
  },
  {
   "cell_type": "code",
   "execution_count": null,
   "metadata": {
    "ExecuteTime": {
     "start_time": "2019-01-31T12:37:41.098Z"
    }
   },
   "outputs": [],
   "source": [
    "results_path = 'notebooks/ICML/icml_results_nonstationary/'\n",
    "\n",
    "results3 = pd.read_csv(results_path + 'experiment3.csv')\n",
    "# dim10 not done yet\n",
    "# results3 = results3[results3.dimension != 10]\n",
    "results4 = pd.read_csv(results_path + 'experiment4.csv')\n",
    "\n",
    "names = ['PC1 incremental', 'PC extensive', 'PC incremental', 'PCMCI incremental']\n",
    "stopper, params = ICStopper, {'patiency': 2}\n",
    "\n",
    "def simulate_stopping(df, stopping, params, col):\n",
    "    sorted_df = df.sort_values(by='tau estimate')\n",
    "    idx = stopping.simulate(sorted_df[col].values, **params)\n",
    "    return sorted_df['tau estimate'].iloc[idx]\n",
    "\n",
    "results4_agg = pd.DataFrame()\n",
    "\n",
    "for (dim, in_edges, tau, autocorr, run), res4 in results4.groupby([\n",
    "    'dimension', 'incoming edges', 'max time lag', 'autocorr', 'run']):\n",
    "    \n",
    "    df_dict = {'dimension': dim, 'max time lag': tau, 'edges': in_edges, 'autocorr': autocorr, 'run': run}\n",
    "    \n",
    "    res3 = results3[(results3[['dimension', 'incoming edges', 'max time lag', 'autocorr', 'run'\n",
    "                                 ]].values == (dim, in_edges, tau, autocorr, run)).all(axis=1)]\n",
    "    for name in names:\n",
    "        pred_tau = simulate_stopping(res3, stopper, params, name + '_bics')\n",
    "        df_dict[name + ' tau estimate'] = pred_tau\n",
    "        \n",
    "        for mse_type in [' - MSE full', ' - MSE TR', ' - MSE FP']:\n",
    "            df_dict[name+mse_type] = res4[res4['tau estimate'] == pred_tau][name + mse_type].iloc[0]\n",
    "    \n",
    "    for mse_type in [' - MSE full', ' - MSE TR', ' - MSE FP']:\n",
    "        df_dict['VAR tau-1'+mse_type] = res4[res4['tau estimate'] == tau-1]['complete VAR' + mse_type].iloc[0]\n",
    "        df_dict['VAR tau'+mse_type] = res4[res4['tau estimate'] == tau]['complete VAR' + mse_type].iloc[0]\n",
    "        df_dict['VAR tau+1'+mse_type] = res4[res4['tau estimate'] == tau+1]['complete VAR' + mse_type].iloc[0]\n",
    "\n",
    "    print(df_dict)\n",
    "    df = pd.DataFrame(df_dict, index=[0])\n",
    "    results4_agg = results4_agg.append(df)\n",
    "    \n",
    "    results4_agg.to_csv(results_path + f'experiment4_aggregated.csv', index=False)"
   ]
  },
  {
   "cell_type": "code",
   "execution_count": 18,
   "metadata": {
    "ExecuteTime": {
     "end_time": "2019-01-31T14:21:50.587031Z",
     "start_time": "2019-01-31T14:21:50.544237Z"
    }
   },
   "outputs": [
    {
     "data": {
      "text/plain": [
       "Index(['dimension', 'max time lag', 'edges', 'autocorr', 'run',\n",
       "       'PC1 incremental tau estimate', 'PC1 incremental - MSE full',\n",
       "       'PC1 incremental - MSE TR', 'PC1 incremental - MSE FP',\n",
       "       'PC extensive tau estimate', 'PC extensive - MSE full',\n",
       "       'PC extensive - MSE TR', 'PC extensive - MSE FP',\n",
       "       'PC incremental tau estimate', 'PC incremental - MSE full',\n",
       "       'PC incremental - MSE TR', 'PC incremental - MSE FP',\n",
       "       'PCMCI incremental tau estimate', 'PCMCI incremental - MSE full',\n",
       "       'PCMCI incremental - MSE TR', 'PCMCI incremental - MSE FP',\n",
       "       'VAR tau-1 - MSE full', 'VAR tau - MSE full', 'VAR tau+1 - MSE full',\n",
       "       'VAR tau-1 - MSE TR', 'VAR tau - MSE TR', 'VAR tau+1 - MSE TR',\n",
       "       'VAR tau-1 - MSE FP', 'VAR tau - MSE FP', 'VAR tau+1 - MSE FP'],\n",
       "      dtype='object')"
      ]
     },
     "execution_count": 18,
     "metadata": {},
     "output_type": "execute_result"
    }
   ],
   "source": [
    "results4_agg.columns"
   ]
  },
  {
   "cell_type": "code",
   "execution_count": null,
   "metadata": {},
   "outputs": [],
   "source": []
  },
  {
   "cell_type": "markdown",
   "metadata": {},
   "source": [
    "### Add pure VAR tau estimates"
   ]
  },
  {
   "cell_type": "code",
   "execution_count": null,
   "metadata": {
    "ExecuteTime": {
     "start_time": "2019-01-31T12:37:57.613Z"
    }
   },
   "outputs": [],
   "source": [
    "import pickle\n",
    "\n",
    "data_path = 'notebooks/ICML/icml_data_nonstationary/'\n",
    "\n",
    "var_estimates = pd.DataFrame()\n",
    "for dim, in_edges, tau, autocorr, _, run in setups:\n",
    "    df_dict = {'dimension': dim, 'max time lag': tau, 'edges': in_edges, 'autocorr': autocorr, 'run': run}\n",
    "    generator = pickle.load(open(data_path + f't={tau}_d={dim}_in={in_edges}_autocorr={autocorr}_{run}.pickle', 'rb'))\n",
    "    max_tau = 2*tau\n",
    "    \n",
    "    p_rankings, ic_scores = var_order_select(generator.ts, max_p=max_tau)\n",
    "    \n",
    "    df_dict['VAR tau estimate'] = p_rankings['bic'][0] if len(p_rankings['bic']) > 0 else max_tau\n",
    "    \n",
    "    var_estimates = var_estimates.append(df_dict, ignore_index=True)\n",
    "var_estimates"
   ]
  },
  {
   "cell_type": "code",
   "execution_count": null,
   "metadata": {
    "ExecuteTime": {
     "start_time": "2019-01-31T12:38:05.941Z"
    }
   },
   "outputs": [],
   "source": [
    "results_path = 'notebooks/ICML/icml_results_nonstationary/'\n",
    "\n",
    "results4_agg['VAR tau estimate'] = var_estimates['VAR tau estimate']\n",
    "results4_agg.to_csv(results_path + f'experiment4_aggregated.csv', index=False)"
   ]
  },
  {
   "cell_type": "code",
   "execution_count": null,
   "metadata": {},
   "outputs": [],
   "source": []
  },
  {
   "cell_type": "markdown",
   "metadata": {
    "heading_collapsed": true
   },
   "source": [
    "### Find best PC approach "
   ]
  },
  {
   "cell_type": "code",
   "execution_count": 87,
   "metadata": {
    "ExecuteTime": {
     "end_time": "2019-01-26T22:54:54.404926Z",
     "start_time": "2019-01-26T22:54:54.240893Z"
    },
    "hidden": true
   },
   "outputs": [
    {
     "data": {
      "text/html": [
       "<div>\n",
       "<style scoped>\n",
       "    .dataframe tbody tr th:only-of-type {\n",
       "        vertical-align: middle;\n",
       "    }\n",
       "\n",
       "    .dataframe tbody tr th {\n",
       "        vertical-align: top;\n",
       "    }\n",
       "\n",
       "    .dataframe thead th {\n",
       "        text-align: right;\n",
       "    }\n",
       "</style>\n",
       "<table border=\"1\" class=\"dataframe\">\n",
       "  <thead>\n",
       "    <tr style=\"text-align: right;\">\n",
       "      <th></th>\n",
       "      <th>0</th>\n",
       "    </tr>\n",
       "  </thead>\n",
       "  <tbody>\n",
       "    <tr>\n",
       "      <th>PC extensive - MSE full</th>\n",
       "      <td>43</td>\n",
       "    </tr>\n",
       "    <tr>\n",
       "      <th>PC incremental - MSE full</th>\n",
       "      <td>149</td>\n",
       "    </tr>\n",
       "    <tr>\n",
       "      <th>PC1 incremental - MSE full</th>\n",
       "      <td>315</td>\n",
       "    </tr>\n",
       "    <tr>\n",
       "      <th>PCMCI incremental - MSE full</th>\n",
       "      <td>175</td>\n",
       "    </tr>\n",
       "    <tr>\n",
       "      <th>VAR tau - MSE full</th>\n",
       "      <td>38</td>\n",
       "    </tr>\n",
       "  </tbody>\n",
       "</table>\n",
       "</div>"
      ],
      "text/plain": [
       "                                0\n",
       "PC extensive - MSE full        43\n",
       "PC incremental - MSE full     149\n",
       "PC1 incremental - MSE full    315\n",
       "PCMCI incremental - MSE full  175\n",
       "VAR tau - MSE full             38"
      ]
     },
     "execution_count": 87,
     "metadata": {},
     "output_type": "execute_result"
    }
   ],
   "source": [
    "pd.DataFrame(*np.unique(results4_agg[['PC incremental - MSE full', 'PC extensive - MSE full', \n",
    "              'PC1 incremental - MSE full', 'PCMCI incremental - MSE full', \n",
    "              'VAR tau - MSE full']].apply(lambda r:str(r.idxmin()), axis=1),\n",
    "             return_counts=True)[::-1])"
   ]
  },
  {
   "cell_type": "code",
   "execution_count": 88,
   "metadata": {
    "ExecuteTime": {
     "end_time": "2019-01-26T22:54:55.518977Z",
     "start_time": "2019-01-26T22:54:55.375124Z"
    },
    "hidden": true
   },
   "outputs": [
    {
     "data": {
      "text/html": [
       "<div>\n",
       "<style scoped>\n",
       "    .dataframe tbody tr th:only-of-type {\n",
       "        vertical-align: middle;\n",
       "    }\n",
       "\n",
       "    .dataframe tbody tr th {\n",
       "        vertical-align: top;\n",
       "    }\n",
       "\n",
       "    .dataframe thead th {\n",
       "        text-align: right;\n",
       "    }\n",
       "</style>\n",
       "<table border=\"1\" class=\"dataframe\">\n",
       "  <thead>\n",
       "    <tr style=\"text-align: right;\">\n",
       "      <th></th>\n",
       "      <th>0</th>\n",
       "    </tr>\n",
       "  </thead>\n",
       "  <tbody>\n",
       "    <tr>\n",
       "      <th>PC extensive - MSE TR</th>\n",
       "      <td>89</td>\n",
       "    </tr>\n",
       "    <tr>\n",
       "      <th>PC incremental - MSE TR</th>\n",
       "      <td>183</td>\n",
       "    </tr>\n",
       "    <tr>\n",
       "      <th>PC1 incremental - MSE TR</th>\n",
       "      <td>264</td>\n",
       "    </tr>\n",
       "    <tr>\n",
       "      <th>PCMCI incremental - MSE TR</th>\n",
       "      <td>84</td>\n",
       "    </tr>\n",
       "    <tr>\n",
       "      <th>VAR tau - MSE TR</th>\n",
       "      <td>100</td>\n",
       "    </tr>\n",
       "  </tbody>\n",
       "</table>\n",
       "</div>"
      ],
      "text/plain": [
       "                              0\n",
       "PC extensive - MSE TR        89\n",
       "PC incremental - MSE TR     183\n",
       "PC1 incremental - MSE TR    264\n",
       "PCMCI incremental - MSE TR   84\n",
       "VAR tau - MSE TR            100"
      ]
     },
     "execution_count": 88,
     "metadata": {},
     "output_type": "execute_result"
    }
   ],
   "source": [
    "pd.DataFrame(*np.unique(results4_agg[['PC incremental - MSE TR', 'PC extensive - MSE TR', \n",
    "              'PC1 incremental - MSE TR', 'PCMCI incremental - MSE TR',\n",
    "              'VAR tau - MSE TR']].apply(lambda r:str(r.idxmin()), axis=1),\n",
    "             return_counts=True)[::-1])"
   ]
  },
  {
   "cell_type": "code",
   "execution_count": 89,
   "metadata": {
    "ExecuteTime": {
     "end_time": "2019-01-26T22:54:56.281964Z",
     "start_time": "2019-01-26T22:54:56.132648Z"
    },
    "hidden": true
   },
   "outputs": [
    {
     "data": {
      "text/html": [
       "<div>\n",
       "<style scoped>\n",
       "    .dataframe tbody tr th:only-of-type {\n",
       "        vertical-align: middle;\n",
       "    }\n",
       "\n",
       "    .dataframe tbody tr th {\n",
       "        vertical-align: top;\n",
       "    }\n",
       "\n",
       "    .dataframe thead th {\n",
       "        text-align: right;\n",
       "    }\n",
       "</style>\n",
       "<table border=\"1\" class=\"dataframe\">\n",
       "  <thead>\n",
       "    <tr style=\"text-align: right;\">\n",
       "      <th></th>\n",
       "      <th>0</th>\n",
       "    </tr>\n",
       "  </thead>\n",
       "  <tbody>\n",
       "    <tr>\n",
       "      <th>PC extensive - MSE FP</th>\n",
       "      <td>35</td>\n",
       "    </tr>\n",
       "    <tr>\n",
       "      <th>PC incremental - MSE FP</th>\n",
       "      <td>58</td>\n",
       "    </tr>\n",
       "    <tr>\n",
       "      <th>PC1 incremental - MSE FP</th>\n",
       "      <td>411</td>\n",
       "    </tr>\n",
       "    <tr>\n",
       "      <th>PCMCI incremental - MSE FP</th>\n",
       "      <td>81</td>\n",
       "    </tr>\n",
       "    <tr>\n",
       "      <th>VAR tau - MSE full</th>\n",
       "      <td>135</td>\n",
       "    </tr>\n",
       "  </tbody>\n",
       "</table>\n",
       "</div>"
      ],
      "text/plain": [
       "                              0\n",
       "PC extensive - MSE FP        35\n",
       "PC incremental - MSE FP      58\n",
       "PC1 incremental - MSE FP    411\n",
       "PCMCI incremental - MSE FP   81\n",
       "VAR tau - MSE full          135"
      ]
     },
     "execution_count": 89,
     "metadata": {},
     "output_type": "execute_result"
    }
   ],
   "source": [
    "pd.DataFrame(*np.unique(results4_agg[['PC incremental - MSE FP', 'PC extensive - MSE FP', \n",
    "              'PC1 incremental - MSE FP', 'PCMCI incremental - MSE FP',\n",
    "              'VAR tau - MSE full']].apply(lambda r:str(r.idxmin()), axis=1),\n",
    "             return_counts=True)[::-1])"
   ]
  },
  {
   "cell_type": "code",
   "execution_count": null,
   "metadata": {
    "hidden": true
   },
   "outputs": [],
   "source": []
  },
  {
   "cell_type": "code",
   "execution_count": 102,
   "metadata": {
    "ExecuteTime": {
     "end_time": "2019-01-26T23:03:26.916269Z",
     "start_time": "2019-01-26T23:03:26.779153Z"
    },
    "hidden": true
   },
   "outputs": [
    {
     "data": {
      "text/html": [
       "<div>\n",
       "<style scoped>\n",
       "    .dataframe tbody tr th:only-of-type {\n",
       "        vertical-align: middle;\n",
       "    }\n",
       "\n",
       "    .dataframe tbody tr th {\n",
       "        vertical-align: top;\n",
       "    }\n",
       "\n",
       "    .dataframe thead th {\n",
       "        text-align: right;\n",
       "    }\n",
       "</style>\n",
       "<table border=\"1\" class=\"dataframe\">\n",
       "  <thead>\n",
       "    <tr style=\"text-align: right;\">\n",
       "      <th></th>\n",
       "      <th>0</th>\n",
       "    </tr>\n",
       "  </thead>\n",
       "  <tbody>\n",
       "    <tr>\n",
       "      <th>PC1 incremental - MSE full</th>\n",
       "      <td>646</td>\n",
       "    </tr>\n",
       "    <tr>\n",
       "      <th>VAR tau - MSE full</th>\n",
       "      <td>74</td>\n",
       "    </tr>\n",
       "  </tbody>\n",
       "</table>\n",
       "</div>"
      ],
      "text/plain": [
       "                              0\n",
       "PC1 incremental - MSE full  646\n",
       "VAR tau - MSE full           74"
      ]
     },
     "execution_count": 102,
     "metadata": {},
     "output_type": "execute_result"
    }
   ],
   "source": [
    "pd.DataFrame(*np.unique(results4_agg[['PC1 incremental - MSE full', \n",
    "                                      'VAR tau - MSE full']].apply(lambda r:str(r.idxmin()), axis=1),\n",
    "             return_counts=True)[::-1])"
   ]
  },
  {
   "cell_type": "code",
   "execution_count": 15,
   "metadata": {
    "ExecuteTime": {
     "end_time": "2019-01-28T15:51:08.650919Z",
     "start_time": "2019-01-28T15:51:08.604912Z"
    },
    "hidden": true
   },
   "outputs": [
    {
     "data": {
      "text/plain": [
       "PC incremental - MSE full         0.007079\n",
       "PC extensive - MSE full           0.006767\n",
       "PC1 incremental - MSE full        0.003646\n",
       "PCMCI incremental - MSE full      0.005482\n",
       "VAR tau - MSE full              307.677207\n",
       "dtype: float64"
      ]
     },
     "execution_count": 15,
     "metadata": {},
     "output_type": "execute_result"
    }
   ],
   "source": [
    "results4_agg.median()[['PC incremental - MSE full', 'PC extensive - MSE full', \n",
    "              'PC1 incremental - MSE full', 'PCMCI incremental - MSE full', \n",
    "              'VAR tau - MSE full']]"
   ]
  },
  {
   "cell_type": "code",
   "execution_count": null,
   "metadata": {
    "hidden": true
   },
   "outputs": [],
   "source": []
  },
  {
   "cell_type": "code",
   "execution_count": null,
   "metadata": {
    "hidden": true
   },
   "outputs": [],
   "source": []
  },
  {
   "cell_type": "markdown",
   "metadata": {
    "heading_collapsed": true
   },
   "source": [
    "### misc"
   ]
  },
  {
   "cell_type": "code",
   "execution_count": null,
   "metadata": {
    "hidden": true
   },
   "outputs": [],
   "source": []
  },
  {
   "cell_type": "code",
   "execution_count": 43,
   "metadata": {
    "ExecuteTime": {
     "end_time": "2019-01-28T18:11:59.888252Z",
     "start_time": "2019-01-28T18:11:59.879566Z"
    },
    "hidden": true
   },
   "outputs": [],
   "source": [
    "df = results4_agg.copy()\n",
    "df['ratio'] = df['VAR tau - MSE full'] / df['PC1 incremental - MSE full']"
   ]
  },
  {
   "cell_type": "code",
   "execution_count": null,
   "metadata": {
    "hidden": true
   },
   "outputs": [],
   "source": []
  },
  {
   "cell_type": "code",
   "execution_count": 124,
   "metadata": {
    "ExecuteTime": {
     "end_time": "2019-01-30T13:44:33.617061Z",
     "start_time": "2019-01-30T13:44:33.563658Z"
    },
    "hidden": true
   },
   "outputs": [
    {
     "data": {
      "text/plain": [
       "2.041666666666666"
      ]
     },
     "execution_count": 124,
     "metadata": {},
     "output_type": "execute_result"
    }
   ],
   "source": [
    "means = df.groupby(['dimension', 'max time lag', 'edges']).mean()\n",
    "(means['VAR tau estimate'] - means['PC1 incremental tau estimate']).mean()"
   ]
  },
  {
   "cell_type": "code",
   "execution_count": null,
   "metadata": {
    "hidden": true
   },
   "outputs": [],
   "source": []
  },
  {
   "cell_type": "code",
   "execution_count": 100,
   "metadata": {
    "ExecuteTime": {
     "end_time": "2019-01-26T23:00:15.001763Z",
     "start_time": "2019-01-26T23:00:14.968226Z"
    },
    "hidden": true
   },
   "outputs": [
    {
     "data": {
      "text/plain": [
       "(array([ True]), array([72]))"
      ]
     },
     "execution_count": 100,
     "metadata": {},
     "output_type": "execute_result"
    }
   ],
   "source": [
    "np.unique(df.groupby(['dimension', 'edges', \n",
    "                      'max time lag', 'autocorr']).mean()['PC1 incremental tau estimate'] > 1,\n",
    "          return_counts=True)"
   ]
  },
  {
   "cell_type": "code",
   "execution_count": null,
   "metadata": {
    "hidden": true
   },
   "outputs": [],
   "source": [
    "df.groupby(['dimension', 'max time lag', 'edges', 'autocorr']).median()[[\n",
    "    'VAR', 'PC1 incremental tau estimate']]"
   ]
  },
  {
   "cell_type": "code",
   "execution_count": null,
   "metadata": {
    "hidden": true
   },
   "outputs": [],
   "source": []
  },
  {
   "cell_type": "code",
   "execution_count": null,
   "metadata": {
    "hidden": true
   },
   "outputs": [],
   "source": []
  },
  {
   "cell_type": "markdown",
   "metadata": {},
   "source": [
    "## Visualization"
   ]
  },
  {
   "cell_type": "code",
   "execution_count": 9,
   "metadata": {
    "ExecuteTime": {
     "end_time": "2019-01-31T14:08:30.361481Z",
     "start_time": "2019-01-31T14:08:30.030678Z"
    },
    "scrolled": true
   },
   "outputs": [],
   "source": [
    "results_path = 'notebooks/ICML/icml_results_nonstationary/'\n",
    "results3 = pd.read_csv(results_path + 'experiment3.csv')\n",
    "results3 = results3[results3.dimension != 10]\n",
    "# results3"
   ]
  },
  {
   "cell_type": "code",
   "execution_count": 10,
   "metadata": {
    "ExecuteTime": {
     "end_time": "2019-01-31T14:08:32.961572Z",
     "start_time": "2019-01-31T14:08:32.625472Z"
    },
    "scrolled": true
   },
   "outputs": [],
   "source": [
    "results4 = pd.read_csv(results_path + 'experiment4.csv')\n",
    "# results4"
   ]
  },
  {
   "cell_type": "code",
   "execution_count": null,
   "metadata": {},
   "outputs": [],
   "source": []
  },
  {
   "cell_type": "code",
   "execution_count": 8,
   "metadata": {
    "ExecuteTime": {
     "end_time": "2019-01-31T14:08:18.527370Z",
     "start_time": "2019-01-31T14:08:18.478518Z"
    }
   },
   "outputs": [
    {
     "data": {
      "text/plain": [
       "720"
      ]
     },
     "execution_count": 8,
     "metadata": {},
     "output_type": "execute_result"
    }
   ],
   "source": [
    "len(results4_agg)"
   ]
  },
  {
   "cell_type": "code",
   "execution_count": 13,
   "metadata": {
    "ExecuteTime": {
     "end_time": "2019-01-31T14:09:18.915255Z",
     "start_time": "2019-01-31T14:09:18.822158Z"
    },
    "scrolled": false
   },
   "outputs": [
    {
     "name": "stdout",
     "output_type": "stream",
     "text": [
      "\\begin{tabular}{lllrrrr}\n",
      "\\toprule\n",
      "   &   &    &  VAR tau-1 - MSE TR &  VAR tau - MSE TR &  VAR tau+1 - MSE TR &  PC1 incremental - MSE TR \\\\\n",
      "dimension & edges & max time lag &                     &                   &                     &                           \\\\\n",
      "\\midrule\n",
      "3  & 2 & 5  &            9.51E-02 &          5.92E-02 &            4.17E-02 &                  5.20E-02 \\\\\n",
      "   &   & 10 &            1.38E-01 &          6.28E-02 &            8.12E-02 &                  7.22E-02 \\\\\n",
      "   &   & 15 &            2.59E-01 &          2.60E-01 &            3.58E-01 &                  9.29E-02 \\\\\n",
      "   &   & 20 &            1.65E-01 &          2.57E-01 &            1.61E+21 &                  1.27E-01 \\\\\n",
      "   & 3 & 5  &            9.22E-02 &          3.18E-02 &            7.01E-02 &                  8.31E-02 \\\\\n",
      "   &   & 10 &            1.22E-01 &          1.29E-01 &            9.47E-02 &                  6.82E-02 \\\\\n",
      "   &   & 15 &            1.23E-01 &          1.36E-01 &            1.12E-01 &                  9.75E-02 \\\\\n",
      "   &   & 20 &            2.67E-01 &          2.14E-01 &            1.72E-01 &                  1.06E-01 \\\\\n",
      "   & 4 & 5  &            1.28E-01 &          9.29E-02 &            1.35E-01 &                  8.64E-02 \\\\\n",
      "   &   & 10 &            1.31E-01 &          1.09E-01 &            1.09E-01 &                  7.42E-02 \\\\\n",
      "   &   & 15 &            1.43E-01 &          1.45E-01 &            1.39E-01 &                  1.05E-01 \\\\\n",
      "   &   & 20 &            1.36E-01 &          1.61E-01 &            1.44E-01 &                  1.23E-01 \\\\\n",
      "5  & 2 & 5  &            7.31E-01 &          2.62E+00 &            4.37E+00 &                  8.14E-02 \\\\\n",
      "   &   & 10 &            1.14E+00 &          3.82E+00 &            5.03E+00 &                  4.00E-02 \\\\\n",
      "   &   & 15 &            6.04E+01 &          1.35E+20 &            8.34E+20 &                  5.32E-02 \\\\\n",
      "   &   & 20 &            2.48E+21 &          4.25E+20 &            2.91E+22 &                  9.97E-02 \\\\\n",
      "   & 3 & 5  &            3.78E-01 &          4.62E-01 &            7.78E-01 &                  8.44E-02 \\\\\n",
      "   &   & 10 &            1.86E+00 &          3.14E+00 &            2.44E+00 &                  5.04E-02 \\\\\n",
      "   &   & 15 &            1.51E+01 &          1.31E+01 &            1.70E+01 &                  4.10E-02 \\\\\n",
      "   &   & 20 &            1.03E+01 &          3.19E+02 &            3.73E+10 &                  1.01E-01 \\\\\n",
      "   & 4 & 5  &            4.49E-01 &          1.15E+00 &            1.50E+00 &                  9.47E-02 \\\\\n",
      "   &   & 10 &            2.06E+00 &          2.44E+00 &            4.70E+00 &                  9.30E-02 \\\\\n",
      "   &   & 15 &            2.03E+00 &          9.12E+00 &            1.65E+01 &                  8.85E-02 \\\\\n",
      "   &   & 20 &            5.96E+00 &          1.74E+01 &            2.38E+01 &                  1.27E-01 \\\\\n",
      "10 & 2 & 5  &            1.51E+15 &          2.53E+15 &            6.49E+14 &                  1.00E-01 \\\\\n",
      "   &   & 10 &            5.67E+15 &          2.34E+16 &            4.93E+15 &                  7.47E-02 \\\\\n",
      "   &   & 15 &            6.65E+15 &          4.11E+15 &            2.43E+16 &                  1.19E-01 \\\\\n",
      "   &   & 20 &            1.24E+16 &          5.16E+19 &            1.86E+17 &                  1.01E-01 \\\\\n",
      "   & 3 & 5  &            1.00E+03 &          9.66E+04 &            7.40E+04 &                  9.69E-02 \\\\\n",
      "   &   & 10 &            6.25E+04 &          6.42E+04 &            7.10E+04 &                  7.56E-02 \\\\\n",
      "   &   & 15 &            5.74E+05 &          1.18E+15 &            4.36E+10 &                  5.54E-02 \\\\\n",
      "   &   & 20 &            2.95E+15 &          1.43E+15 &            1.17E+16 &                  5.11E-02 \\\\\n",
      "   & 4 & 5  &            2.71E+02 &          8.56E+03 &            9.16E+03 &                  1.00E-01 \\\\\n",
      "   &   & 10 &            2.27E+04 &          5.01E+04 &            6.10E+04 &                  6.10E-02 \\\\\n",
      "   &   & 15 &            9.74E+04 &          2.02E+05 &            1.95E+05 &                  9.50E-02 \\\\\n",
      "   &   & 20 &            2.44E+04 &          5.11E+04 &            5.38E+04 &                  9.21E-02 \\\\\n",
      "\\bottomrule\n",
      "\\end{tabular}\n",
      "\n"
     ]
    }
   ],
   "source": [
    "mse_type = ' - MSE TR'\n",
    "print(results4_agg.groupby(['dimension', 'edges', 'max time lag']).median()[['VAR tau-1' + mse_type, \n",
    "                'VAR tau' + mse_type,\n",
    "                'VAR tau+1' + mse_type, \n",
    "                'PC1 incremental' + mse_type]].to_latex(float_format='%.2E'))"
   ]
  },
  {
   "cell_type": "code",
   "execution_count": null,
   "metadata": {},
   "outputs": [],
   "source": []
  },
  {
   "cell_type": "code",
   "execution_count": 12,
   "metadata": {
    "ExecuteTime": {
     "end_time": "2019-01-31T14:08:56.629585Z",
     "start_time": "2019-01-31T14:08:45.950648Z"
    }
   },
   "outputs": [
    {
     "name": "stderr",
     "output_type": "stream",
     "text": [
      "/home/Daniel.Thevessen/.local/lib/python3.6/site-packages/matplotlib/figure.py:457: UserWarning: matplotlib is currently using a non-GUI backend, so cannot show the figure\n",
      "  \"matplotlib is currently using a non-GUI backend, \"\n"
     ]
    },
    {
     "data": {
      "image/png": "[encoded data removed]",
      "text/plain": [
       "<Figure size 4800x1920 with 9 Axes>"
      ]
     },
     "metadata": {},
     "output_type": "display_data"
    }
   ],
   "source": [
    "from itertools import product\n",
    "\n",
    "results_path = 'notebooks/ICML/icml_results_nonstationary/'\n",
    "results4_agg = pd.read_csv(results_path + 'experiment4_aggregated.csv')\n",
    "algorithm = 'PC1 incremental'\n",
    "mse_type = ' - MSE TR'\n",
    "\n",
    "fig, axes = plt.subplots(len(dimensions), len(incoming_edges), \n",
    "                        figsize=(50,20), dpi=96)\n",
    "for row_idx, dim in enumerate(dimensions):\n",
    "    for col_idx, in_edges in enumerate(incoming_edges):\n",
    "        ax = axes[row_idx, col_idx]\n",
    "        \n",
    "        cmp_cnt = 4\n",
    "        all_bar_heights = []\n",
    "        all_tick_labels = []\n",
    "        all_colors = []\n",
    "        for plt_idx, tau in enumerate(taus):\n",
    "            plt_data = results4_agg[(results4_agg[['dimension', 'edges', 'max time lag'\n",
    "                                                  ]].values == (dim, in_edges, tau)).all(axis=1)]\n",
    "            bar_heights = plt_data[[\n",
    "                'VAR tau-1' + mse_type, \n",
    "                'VAR tau' + mse_type,\n",
    "                'VAR tau+1' + mse_type, \n",
    "                algorithm + mse_type\n",
    "            ]].mean()\n",
    "            all_bar_heights.extend(bar_heights)\n",
    "            \n",
    "            all_colors.extend([\n",
    "                'grey', \n",
    "                'grey', \n",
    "                'grey', \n",
    "                'blue'\n",
    "            ])\n",
    "            all_tick_labels.extend([\n",
    "                r'VAR, $\\tau-1$', \n",
    "                r'VAR, $\\tau$', \n",
    "                r'VAR, $\\tau+1$',\n",
    "#               algorithm + r', $\\hat{\\tau}$'])\n",
    "                r'$PC_{1}$, $\\hat{\\tau}$'\n",
    "            ])\n",
    "            ax.annotate(r'$\\mathrm{\\tau = ' + str(tau) + r'}$', xy=((cmp_cnt+1)*plt_idx + (cmp_cnt - 0.2), 0.95),\n",
    "                        xycoords=('data', 'axes fraction'), fontsize=16,\n",
    "                        horizontalalignment='right', va='top')\n",
    "        \n",
    "        for sep_idx in np.arange(cmp_cnt, (cmp_cnt+1)*len(taus)-1, cmp_cnt+1):\n",
    "            ax.axvline(sep_idx)\n",
    "        ax.bar(np.delete(np.arange((cmp_cnt+1)*len(taus)-1), np.arange(cmp_cnt, (cmp_cnt+1)*len(taus)-1, cmp_cnt+1)),\n",
    "               height=all_bar_heights, color=all_colors,\n",
    "               tick_label=all_tick_labels)\n",
    "        ax.tick_params(axis='x', rotation=45)\n",
    "        ax.set_yscale('log')\n",
    "        \n",
    "\n",
    "pad = 15\n",
    "for ax, col in zip(axes[0], [f'L = {in_e} * d' for in_e in incoming_edges]):\n",
    "    ax.annotate(col, xy=(0.5, 1), xytext=(0, pad),\n",
    "                xycoords='axes fraction', textcoords='offset points',\n",
    "                fontsize=42, ha='center', va='baseline', fontweight='bold')\n",
    "\n",
    "for ax, row in zip(axes[:,0], [f'd = {dim}' for dim in dimensions]):\n",
    "    ax.annotate(row, xy=(0, 0.5), xytext=(-ax.yaxis.labelpad - pad, 0),\n",
    "                xycoords=ax.yaxis.label, textcoords='offset points',\n",
    "                fontsize=42, ha='right', va='center', fontweight='bold')\n",
    "\n",
    "plt.tight_layout()\n",
    "fig.show()"
   ]
  },
  {
   "cell_type": "code",
   "execution_count": 15,
   "metadata": {
    "ExecuteTime": {
     "end_time": "2019-01-31T14:19:54.912973Z",
     "start_time": "2019-01-31T14:19:54.866990Z"
    }
   },
   "outputs": [
    {
     "data": {
      "text/plain": [
       "Index(['dimension', 'max time lag', 'edges', 'autocorr', 'run',\n",
       "       'PC1 incremental tau estimate', 'PC1 incremental - MSE full',\n",
       "       'PC1 incremental - MSE TR', 'PC1 incremental - MSE FP',\n",
       "       'PC extensive tau estimate', 'PC extensive - MSE full',\n",
       "       'PC extensive - MSE TR', 'PC extensive - MSE FP',\n",
       "       'PC incremental tau estimate', 'PC incremental - MSE full',\n",
       "       'PC incremental - MSE TR', 'PC incremental - MSE FP',\n",
       "       'PCMCI incremental tau estimate', 'PCMCI incremental - MSE full',\n",
       "       'PCMCI incremental - MSE TR', 'PCMCI incremental - MSE FP',\n",
       "       'VAR tau-1 - MSE full', 'VAR tau - MSE full', 'VAR tau+1 - MSE full',\n",
       "       'VAR tau-1 - MSE TR', 'VAR tau - MSE TR', 'VAR tau+1 - MSE TR',\n",
       "       'VAR tau-1 - MSE FP', 'VAR tau - MSE FP', 'VAR tau+1 - MSE FP'],\n",
       "      dtype='object')"
      ]
     },
     "execution_count": 15,
     "metadata": {},
     "output_type": "execute_result"
    }
   ],
   "source": [
    "results4_agg.columns"
   ]
  },
  {
   "cell_type": "code",
   "execution_count": 37,
   "metadata": {
    "ExecuteTime": {
     "end_time": "2019-01-31T14:29:56.495169Z",
     "start_time": "2019-01-31T14:29:56.248160Z"
    }
   },
   "outputs": [
    {
     "data": {
      "text/plain": [
       "max time lag\n",
       "5     0.072730\n",
       "10    0.060316\n",
       "15    0.048275\n",
       "20    0.052348\n",
       "Name: PC1 incremental - MSE TR, dtype: float64"
      ]
     },
     "execution_count": 37,
     "metadata": {},
     "output_type": "execute_result"
    }
   ],
   "source": [
    "pd.read_csv('notebooks/ICML/icml_results_v2/experiment4_aggregated.csv'\n",
    "           ).groupby(['max time lag']).mean()['PC1 incremental - MSE TR']"
   ]
  },
  {
   "cell_type": "code",
   "execution_count": 36,
   "metadata": {
    "ExecuteTime": {
     "end_time": "2019-01-31T14:29:52.772493Z",
     "start_time": "2019-01-31T14:29:52.600097Z"
    }
   },
   "outputs": [
    {
     "data": {
      "text/plain": [
       "max time lag\n",
       "5     0.091282\n",
       "10    0.075103\n",
       "15    0.084960\n",
       "20    0.098531\n",
       "Name: PC1 incremental - MSE TR, dtype: float64"
      ]
     },
     "execution_count": 36,
     "metadata": {},
     "output_type": "execute_result"
    }
   ],
   "source": [
    "results4_agg.groupby(['max time lag']).mean()['PC1 incremental - MSE TR']"
   ]
  },
  {
   "cell_type": "code",
   "execution_count": null,
   "metadata": {},
   "outputs": [],
   "source": []
  },
  {
   "cell_type": "code",
   "execution_count": null,
   "metadata": {},
   "outputs": [],
   "source": []
  },
  {
   "cell_type": "code",
   "execution_count": null,
   "metadata": {},
   "outputs": [],
   "source": []
  },
  {
   "cell_type": "code",
   "execution_count": null,
   "metadata": {},
   "outputs": [],
   "source": []
  },
  {
   "cell_type": "code",
   "execution_count": null,
   "metadata": {},
   "outputs": [],
   "source": []
  },
  {
   "cell_type": "code",
   "execution_count": null,
   "metadata": {},
   "outputs": [],
   "source": []
  },
  {
   "cell_type": "code",
   "execution_count": null,
   "metadata": {},
   "outputs": [],
   "source": []
  },
  {
   "cell_type": "code",
   "execution_count": null,
   "metadata": {},
   "outputs": [],
   "source": []
  },
  {
   "cell_type": "code",
   "execution_count": null,
   "metadata": {},
   "outputs": [],
   "source": []
  },
  {
   "cell_type": "markdown",
   "metadata": {},
   "source": [
    "# Experiment 5"
   ]
  },
  {
   "cell_type": "code",
   "execution_count": 51,
   "metadata": {
    "ExecuteTime": {
     "end_time": "2019-01-30T11:47:06.369769Z",
     "start_time": "2019-01-30T11:47:06.322626Z"
    }
   },
   "outputs": [],
   "source": [
    "data_path = 'notebooks/ICML/icml_data_v2/'\n",
    "results_path = 'notebooks/ICML/icml_results_v2/'\n",
    "\n",
    "result5 = pd.read_csv(results_path + 'experiment5.csv')"
   ]
  },
  {
   "cell_type": "code",
   "execution_count": 58,
   "metadata": {
    "ExecuteTime": {
     "end_time": "2019-01-30T11:48:52.670339Z",
     "start_time": "2019-01-30T11:48:52.662209Z"
    }
   },
   "outputs": [
    {
     "data": {
      "text/plain": [
       "Index(['PC1 incremental - FDR', 'PC1 incremental - FPR',\n",
       "       'PC1 incremental - MSE FP', 'PC1 incremental - MSE TR',\n",
       "       'PC1 incremental - MSE full', 'PC1 incremental - TPR',\n",
       "       'PC1 incremental - accuracy', 'PC1 incremental - f1-score',\n",
       "       'PC1 incremental - matthews_corrcoef', 'PC1 incremental - precision',\n",
       "       'PC1 tau - FDR', 'PC1 tau - FPR', 'PC1 tau - MSE FP',\n",
       "       'PC1 tau - MSE TR', 'PC1 tau - MSE full', 'PC1 tau - TPR',\n",
       "       'PC1 tau - accuracy', 'PC1 tau - f1-score',\n",
       "       'PC1 tau - matthews_corrcoef', 'PC1 tau - precision', 'PC1 tau+1 - FDR',\n",
       "       'PC1 tau+1 - FPR', 'PC1 tau+1 - MSE FP', 'PC1 tau+1 - MSE TR',\n",
       "       'PC1 tau+1 - MSE full', 'PC1 tau+1 - TPR', 'PC1 tau+1 - accuracy',\n",
       "       'PC1 tau+1 - f1-score', 'PC1 tau+1 - matthews_corrcoef',\n",
       "       'PC1 tau+1 - precision', 'PC1 tau+2 - FDR', 'PC1 tau+2 - FPR',\n",
       "       'PC1 tau+2 - MSE FP', 'PC1 tau+2 - MSE TR', 'PC1 tau+2 - MSE full',\n",
       "       'PC1 tau+2 - TPR', 'PC1 tau+2 - accuracy', 'PC1 tau+2 - f1-score',\n",
       "       'PC1 tau+2 - matthews_corrcoef', 'PC1 tau+2 - precision',\n",
       "       'PC1 tau-1 - FDR', 'PC1 tau-1 - FPR', 'PC1 tau-1 - MSE FP',\n",
       "       'PC1 tau-1 - MSE TR', 'PC1 tau-1 - MSE full', 'PC1 tau-1 - TPR',\n",
       "       'PC1 tau-1 - accuracy', 'PC1 tau-1 - f1-score',\n",
       "       'PC1 tau-1 - matthews_corrcoef', 'PC1 tau-1 - precision',\n",
       "       'PC1 tau-2 - FDR', 'PC1 tau-2 - FPR', 'PC1 tau-2 - MSE FP',\n",
       "       'PC1 tau-2 - MSE TR', 'PC1 tau-2 - MSE full', 'PC1 tau-2 - TPR',\n",
       "       'PC1 tau-2 - accuracy', 'PC1 tau-2 - f1-score',\n",
       "       'PC1 tau-2 - matthews_corrcoef', 'PC1 tau-2 - precision', 'autocorr',\n",
       "       'dimension', 'incoming edges', 'max time lag', 'run'],\n",
       "      dtype='object')"
      ]
     },
     "execution_count": 58,
     "metadata": {},
     "output_type": "execute_result"
    }
   ],
   "source": [
    "result5.columns"
   ]
  },
  {
   "cell_type": "code",
   "execution_count": 125,
   "metadata": {
    "ExecuteTime": {
     "end_time": "2019-01-30T13:45:11.508406Z",
     "start_time": "2019-01-30T13:45:11.483123Z"
    }
   },
   "outputs": [
    {
     "data": {
      "text/plain": [
       "-0.020013238597434486"
      ]
     },
     "execution_count": 125,
     "metadata": {},
     "output_type": "execute_result"
    }
   ],
   "source": [
    "(result5['PC1 incremental - f1-score'] - result5['PC1 tau - f1-score']).mean()"
   ]
  },
  {
   "cell_type": "code",
   "execution_count": 134,
   "metadata": {
    "ExecuteTime": {
     "end_time": "2019-01-30T13:47:07.552698Z",
     "start_time": "2019-01-30T13:47:07.526560Z"
    }
   },
   "outputs": [
    {
     "data": {
      "text/plain": [
       "PC1 incremental - accuracy    0.008015\n",
       "PC1 tau - accuracy            0.011276\n",
       "dtype: float64"
      ]
     },
     "execution_count": 134,
     "metadata": {},
     "output_type": "execute_result"
    }
   ],
   "source": [
    "result5[['PC1 incremental - accuracy', 'PC1 tau - accuracy']].std()"
   ]
  },
  {
   "cell_type": "code",
   "execution_count": 83,
   "metadata": {
    "ExecuteTime": {
     "end_time": "2019-01-30T12:37:55.628629Z",
     "start_time": "2019-01-30T12:37:55.595236Z"
    }
   },
   "outputs": [],
   "source": [
    "def percentile(n):\n",
    "    def percentile_(x):\n",
    "        return np.percentile(x, n)\n",
    "    percentile_.__name__ = 'percentile_%s' % n\n",
    "    return percentile_"
   ]
  },
  {
   "cell_type": "code",
   "execution_count": 133,
   "metadata": {
    "ExecuteTime": {
     "end_time": "2019-01-30T13:46:47.957488Z",
     "start_time": "2019-01-30T13:46:47.385756Z"
    },
    "scrolled": true
   },
   "outputs": [
    {
     "data": {
      "text/plain": [
       "PC1 incremental - accuracy  std    0.004115\n",
       "PC1 tau - accuracy          std    0.004654\n",
       "dtype: float64"
      ]
     },
     "execution_count": 133,
     "metadata": {},
     "output_type": "execute_result"
    }
   ],
   "source": [
    "result5.groupby(\n",
    "    ['max time lag', 'dimension', 'incoming edges', 'autocorr']\n",
    ").agg(['std'])[['PC1 incremental - accuracy', 'PC1 tau - accuracy']].mean()"
   ]
  },
  {
   "cell_type": "code",
   "execution_count": 105,
   "metadata": {
    "ExecuteTime": {
     "end_time": "2019-01-30T12:51:48.872504Z",
     "start_time": "2019-01-30T12:51:47.902718Z"
    }
   },
   "outputs": [
    {
     "name": "stderr",
     "output_type": "stream",
     "text": [
      "/usr/local/lib/python3.6/site-packages/scipy/stats/stats.py:1713: FutureWarning: Using a non-tuple sequence for multidimensional indexing is deprecated; use `arr[tuple(seq)]` instead of `arr[seq]`. In the future this will be interpreted as an array index, `arr[np.array(seq)]`, which will result either in an error or a different result.\n",
      "  return np.add.reduce(sorted[indexer] * weights, axis=axis) / sumval\n"
     ]
    },
    {
     "data": {
      "image/png": "[encoded data removed]",
      "text/plain": [
       "<Figure size 432x288 with 1 Axes>"
      ]
     },
     "metadata": {},
     "output_type": "display_data"
    }
   ],
   "source": [
    "import seaborn as sns\n",
    "\n",
    "sns.distplot(result5['PC1 incremental - TPR'], hist = True, kde = True,\n",
    "                 kde_kws = {'linewidth': 3},\n",
    "                 label = 'inc')\n",
    "\n",
    "sns.distplot(result5['PC1 tau - TPR'], hist = True, kde = True,\n",
    "                 kde_kws = {'linewidth': 3},\n",
    "                 label = 'non-inc')\n",
    "plt.legend()\n",
    "plt.show()"
   ]
  },
  {
   "cell_type": "code",
   "execution_count": null,
   "metadata": {},
   "outputs": [],
   "source": []
  },
  {
   "cell_type": "code",
   "execution_count": null,
   "metadata": {},
   "outputs": [],
   "source": []
  },
  {
   "cell_type": "code",
   "execution_count": null,
   "metadata": {},
   "outputs": [],
   "source": []
  },
  {
   "cell_type": "code",
   "execution_count": null,
   "metadata": {},
   "outputs": [],
   "source": []
  },
  {
   "cell_type": "code",
   "execution_count": null,
   "metadata": {},
   "outputs": [],
   "source": []
  },
  {
   "cell_type": "code",
   "execution_count": null,
   "metadata": {},
   "outputs": [],
   "source": []
  },
  {
   "cell_type": "code",
   "execution_count": null,
   "metadata": {},
   "outputs": [],
   "source": []
  },
  {
   "cell_type": "code",
   "execution_count": null,
   "metadata": {},
   "outputs": [],
   "source": []
  },
  {
   "cell_type": "code",
   "execution_count": null,
   "metadata": {},
   "outputs": [],
   "source": []
  },
  {
   "cell_type": "code",
   "execution_count": null,
   "metadata": {},
   "outputs": [],
   "source": []
  },
  {
   "cell_type": "markdown",
   "metadata": {
    "heading_collapsed": true
   },
   "source": [
    "# Deprecated"
   ]
  },
  {
   "cell_type": "code",
   "execution_count": null,
   "metadata": {
    "ExecuteTime": {
     "end_time": "2019-01-24T15:25:38.656411Z",
     "start_time": "2019-01-24T15:25:05.867638Z"
    },
    "hidden": true,
    "scrolled": true
   },
   "outputs": [],
   "source": [
    "algorithm, stopper, params = 'PCMCI incremental', ICStopper, {'patiency': 2}\n",
    "col = algorithm + '_bics'\n",
    "\n",
    "def simulate_stopping(df, stopping, params, col):\n",
    "    sorted_df = df.sort_values(by='tau estimate')\n",
    "    idx = stopping.simulate(sorted_df[col].values, **params)\n",
    "    return sorted_df['tau estimate'].iloc[idx]\n",
    "\n",
    "agg_se = pd.DataFrame()\n",
    "\n",
    "for (dim, in_edges, tau, autocorr), res4 in results4.groupby([\n",
    "    'dimension', 'incoming edges', 'max time lag', 'autocorr']):\n",
    "    \n",
    "    df_dict = {'dimension': dim, 'max time lag': tau, 'edges': in_edges, 'autocorr': autocorr}\n",
    "    \n",
    "    res3 = results3[(results3[['dimension', 'incoming edges', 'max time lag', 'autocorr'\n",
    "                                 ]].values == (dim, in_edges, tau, autocorr)).all(axis=1)]\n",
    "    pred_taus = res3.groupby('run').apply(lambda df: simulate_stopping(df, stopper, params, col))\n",
    "    pred_errs = [res4[(res4.run == run) & (res4['tau estimate'] == t)][algorithm].iloc[0]\n",
    "                 for run, t in pred_taus.iteritems()]\n",
    "    \n",
    "    df_dict['VAR_tau-1_SE'] = res4[res4['tau estimate'] == tau-1]['complete VAR'].mean() \n",
    "    plt.bar(0.2, height=df_dict['VAR_tau-1_SE'], \n",
    "            label=r'VAR, $\\tau-1$', color='grey', width=0.4)\n",
    "    df_dict['VAR_tau_SE'] = res4[res4['tau estimate'] == tau]['complete VAR'].mean() \n",
    "    plt.bar(0.65, height=df_dict['VAR_tau_SE'], \n",
    "            label=r'VAR, $\\tau$', color='grey', width=0.4)\n",
    "    df_dict['VAR_tau+1_SE'] = res4[res4['tau estimate'] == tau+1]['complete VAR'].mean() \n",
    "    plt.bar(1.1, height=df_dict['VAR_tau+1_SE'], \n",
    "            label=r'VAR, $\\tau+1$', color='grey', width=0.4)\n",
    "\n",
    "    plt.bar(2, height=np.mean(pred_errs), label=algorithm + r', $\\hat{\\tau}$', width=0.4)\n",
    "    df_dict[algorithm + '_SE'] = np.mean(pred_errs)\n",
    "    \n",
    "    print(df_dict)\n",
    "    df = pd.DataFrame(df_dict, index=[0])\n",
    "    agg_se = agg_se.append(df)\n",
    "    \n",
    "    plt.ylabel('squared error')\n",
    "#     plt.yscale('log')\n",
    "    plt.title(f'tau={tau}, dimensionality={dim}, edge count={in_edges}*dim, autocorr={autocorr}')\n",
    "    plt.legend()\n",
    "    plt.show()"
   ]
  },
  {
   "cell_type": "markdown",
   "metadata": {
    "heading_collapsed": true,
    "hidden": true
   },
   "source": [
    "### Validate graph"
   ]
  },
  {
   "cell_type": "code",
   "execution_count": null,
   "metadata": {
    "ExecuteTime": {
     "end_time": "2019-01-22T17:07:25.923696Z",
     "start_time": "2019-01-22T17:07:25.218171Z"
    },
    "hidden": true
   },
   "outputs": [],
   "source": [
    "generator = pickle.load(open(data_path + f't=10_d=3_in=2_autocorr=False_1.pickle', 'rb'))\n",
    "generator.draw_graph()"
   ]
  },
  {
   "cell_type": "code",
   "execution_count": null,
   "metadata": {
    "ExecuteTime": {
     "end_time": "2019-01-22T17:11:30.764496Z",
     "start_time": "2019-01-22T17:11:30.588741Z"
    },
    "hidden": true
   },
   "outputs": [],
   "source": [
    "results[(results[['dimension', 'incoming edges', 'max time lag',\n",
    "                  'autocorr', 'run']].values == (3, 2, 10, False, 1)).all(axis=1)]"
   ]
  },
  {
   "cell_type": "code",
   "execution_count": null,
   "metadata": {
    "hidden": true
   },
   "outputs": [],
   "source": []
  }
 ],
 "metadata": {
  "kernelspec": {
   "display_name": "Python 3",
   "language": "python",
   "name": "python3"
  },
  "language_info": {
   "codemirror_mode": {
    "name": "ipython",
    "version": 3
   },
   "file_extension": ".py",
   "mimetype": "text/x-python",
   "name": "python",
   "nbconvert_exporter": "python",
   "pygments_lexer": "ipython3",
   "version": "3.6.6"
  },
  "varInspector": {
   "cols": {
    "lenName": 16,
    "lenType": 16,
    "lenVar": 40
   },
   "kernels_config": {
    "python": {
     "delete_cmd_postfix": "",
     "delete_cmd_prefix": "del ",
     "library": "var_list.py",
     "varRefreshCmd": "print(var_dic_list())"
    },
    "r": {
     "delete_cmd_postfix": ") ",
     "delete_cmd_prefix": "rm(",
     "library": "var_list.r",
     "varRefreshCmd": "cat(var_dic_list()) "
    }
   },
   "types_to_exclude": [
    "module",
    "function",
    "builtin_function_or_method",
    "instance",
    "_Feature"
   ],
   "window_display": false
  }
 },
 "nbformat": 4,
 "nbformat_minor": 2
}
