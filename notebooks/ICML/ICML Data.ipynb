{
 "cells": [
  {
   "cell_type": "code",
   "execution_count": 1,
   "metadata": {
    "ExecuteTime": {
     "end_time": "2019-01-08T14:45:35.876907Z",
     "start_time": "2019-01-08T14:45:35.850337Z"
    }
   },
   "outputs": [],
   "source": [
    "%load_ext autoreload\n",
    "%autoreload 2"
   ]
  },
  {
   "cell_type": "code",
   "execution_count": 2,
   "metadata": {
    "ExecuteTime": {
     "end_time": "2019-01-08T14:45:38.082513Z",
     "start_time": "2019-01-08T14:45:35.881413Z"
    }
   },
   "outputs": [
    {
     "name": "stderr",
     "output_type": "stream",
     "text": [
      "/usr/local/lib/python3.6/importlib/_bootstrap.py:219: RuntimeWarning: numpy.dtype size changed, may indicate binary incompatibility. Expected 96, got 88\n",
      "  return f(*args, **kwds)\n",
      "/usr/local/lib/python3.6/importlib/_bootstrap.py:219: RuntimeWarning: numpy.dtype size changed, may indicate binary incompatibility. Expected 96, got 88\n",
      "  return f(*args, **kwds)\n"
     ]
    }
   ],
   "source": [
    "import os\n",
    "if not os.getcwd().endswith('CIoTS'):\n",
    "    os.chdir('../..')\n",
    "\n",
    "import numpy as np\n",
    "import pandas as pd\n",
    "import matplotlib.pyplot as plt\n",
    "from CIoTS import *"
   ]
  },
  {
   "cell_type": "markdown",
   "metadata": {},
   "source": [
    "# Execution"
   ]
  },
  {
   "cell_type": "code",
   "execution_count": 3,
   "metadata": {
    "ExecuteTime": {
     "end_time": "2019-01-08T14:45:38.125943Z",
     "start_time": "2019-01-08T14:45:38.088181Z"
    }
   },
   "outputs": [],
   "source": [
    "from itertools import product\n",
    "\n",
    "dimensions = [3, 5, 10]\n",
    "incoming_edges = [2, 3, 4]\n",
    "taus = [5, 10, 15, 20]\n",
    "autocorrs = [False, True]\n",
    "data_length = [10000]\n",
    "runs = range(10)\n",
    "\n",
    "setups = list(product(dimensions, incoming_edges, taus, autocorrs, data_length, runs))"
   ]
  },
  {
   "cell_type": "markdown",
   "metadata": {},
   "source": [
    "## Data generation"
   ]
  },
  {
   "cell_type": "code",
   "execution_count": null,
   "metadata": {
    "ExecuteTime": {
     "start_time": "2019-01-08T14:45:35.906Z"
    },
    "code_folding": [],
    "scrolled": true
   },
   "outputs": [
    {
     "name": "stdout",
     "output_type": "stream",
     "text": [
      "3 2 5 False 10000 0 :  0.6378018856048584\n",
      "3 2 5 False 10000 1 :  0.7811017036437988\n",
      "3 2 5 False 10000 2 :  0.5483825206756592\n",
      "3 2 5 False 10000 3 :  0.7679860591888428\n",
      "3 2 5 False 10000 4 :  0.8127396106719971\n",
      "3 2 5 False 10000 5 :  0.6551647186279297\n",
      "3 2 5 False 10000 6 :  0.7482986450195312\n",
      "3 2 5 False 10000 7 :  0.7269794940948486\n",
      "3 2 5 False 10000 8 :  0.8102378845214844\n",
      "3 2 5 False 10000 9 :  0.7613680362701416\n",
      "3 2 5 True 10000 0 :  1.0531015396118164\n",
      "3 2 5 True 10000 1 :  0.6394333839416504\n",
      "3 2 5 True 10000 2 :  0.6439738273620605\n",
      "3 2 5 True 10000 3 :  0.6622805595397949\n",
      "3 2 5 True 10000 4 :  0.6058783531188965\n",
      "3 2 5 True 10000 5 :  1.3807682991027832\n",
      "3 2 5 True 10000 6 :  0.8638567924499512\n",
      "3 2 5 True 10000 7 :  0.7805633544921875\n",
      "3 2 5 True 10000 8 :  0.6785182952880859\n",
      "3 2 5 True 10000 9 :  0.8638310432434082\n",
      "3 2 10 False 10000 0 :  0.8641088008880615\n",
      "3 2 10 False 10000 1 :  0.8904168605804443\n",
      "3 2 10 False 10000 2 :  1.0725760459899902\n",
      "3 2 10 False 10000 3 :  0.7188105583190918\n",
      "3 2 10 False 10000 4 :  0.815544605255127\n",
      "3 2 10 False 10000 5 :  0.7585482597351074\n",
      "3 2 10 False 10000 6 :  0.8718230724334717\n",
      "3 2 10 False 10000 7 :  0.6914272308349609\n",
      "3 2 10 False 10000 8 :  0.8836016654968262\n",
      "3 2 10 False 10000 9 :  0.9141669273376465\n",
      "3 2 10 True 10000 0 :  1.1541001796722412\n",
      "3 2 10 True 10000 1 :  3.4828274250030518\n",
      "3 2 10 True 10000 2 :  2.557584762573242\n",
      "3 2 10 True 10000 3 :  2.2769479751586914\n",
      "3 2 10 True 10000 4 :  3.0620710849761963\n",
      "3 2 10 True 10000 5 :  0.8806760311126709\n",
      "3 2 10 True 10000 6 :  0.7726640701293945\n",
      "3 2 10 True 10000 7 :  0.9000711441040039\n",
      "3 2 10 True 10000 8 :  2.7324752807617188\n",
      "3 2 10 True 10000 9 :  1.6181271076202393\n",
      "3 2 15 False 10000 0 :  1.2961633205413818\n",
      "3 2 15 False 10000 1 :  0.9683380126953125\n",
      "3 2 15 False 10000 2 :  1.1339609622955322\n",
      "3 2 15 False 10000 3 :  1.1097371578216553\n",
      "3 2 15 False 10000 4 :  0.9664397239685059\n",
      "3 2 15 False 10000 5 :  1.1794099807739258\n",
      "3 2 15 False 10000 6 :  1.1547975540161133\n",
      "3 2 15 False 10000 7 :  1.0447719097137451\n",
      "3 2 15 False 10000 8 :  1.1732268333435059\n",
      "3 2 15 False 10000 9 :  1.1903653144836426\n",
      "3 2 15 True 10000 0 :  1.0902409553527832\n",
      "3 2 15 True 10000 1 :  2.1981430053710938\n",
      "3 2 15 True 10000 2 :  1.7531037330627441\n",
      "3 2 15 True 10000 3 :  1.205575942993164\n",
      "3 2 15 True 10000 4 :  1.6851284503936768\n",
      "3 2 15 True 10000 5 :  2.7981536388397217\n",
      "3 2 15 True 10000 6 :  1.2091054916381836\n",
      "3 2 15 True 10000 7 :  1.260077953338623\n",
      "3 2 15 True 10000 8 :  1.4135432243347168\n",
      "3 2 15 True 10000 9 :  4.846018075942993\n",
      "3 2 20 False 10000 0 :  1.0214128494262695\n",
      "3 2 20 False 10000 1 :  1.4258484840393066\n",
      "3 2 20 False 10000 2 :  1.1779749393463135\n",
      "3 2 20 False 10000 3 :  1.272383451461792\n",
      "3 2 20 False 10000 4 :  1.1450483798980713\n",
      "3 2 20 False 10000 5 :  1.2586004734039307\n",
      "3 2 20 False 10000 6 :  1.2512974739074707\n",
      "3 2 20 False 10000 7 :  1.0960133075714111\n",
      "3 2 20 False 10000 8 :  1.236842155456543\n",
      "3 2 20 False 10000 9 :  1.595656394958496\n",
      "3 2 20 True 10000 0 :  1.2947611808776855\n",
      "3 2 20 True 10000 1 :  6.25791072845459\n",
      "3 2 20 True 10000 2 :  2.372687578201294\n",
      "3 2 20 True 10000 3 :  3.342634677886963\n",
      "3 2 20 True 10000 4 :  3.6849238872528076\n",
      "3 2 20 True 10000 5 :  1.3006644248962402\n",
      "3 2 20 True 10000 6 :  9.01262879371643\n",
      "3 2 20 True 10000 7 :  2.890308141708374\n",
      "3 2 20 True 10000 8 :  3.0020573139190674\n",
      "3 2 20 True 10000 9 :  2.1385440826416016\n",
      "3 3 5 False 10000 0 :  0.8725347518920898\n",
      "3 3 5 False 10000 1 :  0.8833110332489014\n",
      "3 3 5 False 10000 2 :  0.7221786975860596\n",
      "3 3 5 False 10000 3 :  1.1076793670654297\n",
      "3 3 5 False 10000 4 :  0.8945558071136475\n",
      "3 3 5 False 10000 5 :  1.4337596893310547\n",
      "3 3 5 False 10000 6 :  0.9306488037109375\n",
      "3 3 5 False 10000 7 :  0.8702907562255859\n",
      "3 3 5 False 10000 8 :  2.1453888416290283\n",
      "3 3 5 False 10000 9 :  1.2310385704040527\n",
      "3 3 5 True 10000 0 :  1.1260013580322266\n",
      "3 3 5 True 10000 1 :  3.434011936187744\n",
      "3 3 5 True 10000 2 :  2.2526814937591553\n",
      "3 3 5 True 10000 3 :  1.8855016231536865\n",
      "3 3 5 True 10000 4 :  2.33327317237854\n",
      "3 3 5 True 10000 5 :  0.8443179130554199\n",
      "3 3 5 True 10000 6 :  5.649260759353638\n",
      "3 3 5 True 10000 7 :  1.867725133895874\n",
      "3 3 5 True 10000 8 :  0.918952226638794\n",
      "3 3 5 True 10000 9 :  5.479548931121826\n",
      "3 3 10 False 10000 0 :  1.2805263996124268\n",
      "3 3 10 False 10000 1 :  1.1051912307739258\n",
      "3 3 10 False 10000 2 :  1.098320722579956\n",
      "3 3 10 False 10000 3 :  1.0445356369018555\n",
      "3 3 10 False 10000 4 :  1.3318812847137451\n",
      "3 3 10 False 10000 5 :  1.1501877307891846\n",
      "3 3 10 False 10000 6 :  1.3075649738311768\n",
      "3 3 10 False 10000 7 :  1.538076400756836\n",
      "3 3 10 False 10000 8 :  1.3166415691375732\n",
      "3 3 10 False 10000 9 :  2.0574958324432373\n",
      "3 3 10 True 10000 0 :  15.23506498336792\n",
      "3 3 10 True 10000 1 :  11.682165622711182\n",
      "3 3 10 True 10000 2 :  2.9806973934173584\n",
      "3 3 10 True 10000 3 :  17.105576992034912\n",
      "3 3 10 True 10000 4 :  7.893374681472778\n",
      "3 3 10 True 10000 5 :  1.7492344379425049\n",
      "3 3 10 True 10000 6 :  2.6895599365234375\n",
      "3 3 10 True 10000 7 :  7.465923070907593\n",
      "3 3 10 True 10000 8 :  69.21455550193787\n",
      "3 3 10 True 10000 9 :  8.980286359786987\n",
      "3 3 15 False 10000 0 :  1.8185861110687256\n",
      "3 3 15 False 10000 1 :  2.018718719482422\n",
      "3 3 15 False 10000 2 :  1.7899775505065918\n",
      "3 3 15 False 10000 3 :  1.7644755840301514\n",
      "3 3 15 False 10000 4 :  1.3634686470031738\n",
      "3 3 15 False 10000 5 :  1.8710215091705322\n",
      "3 3 15 False 10000 6 :  2.2814908027648926\n",
      "3 3 15 False 10000 7 :  1.4052734375\n",
      "3 3 15 False 10000 8 :  1.7155370712280273\n",
      "3 3 15 False 10000 9 :  2.464691638946533\n",
      "3 3 15 True 10000 0 :  18.613731622695923\n",
      "3 3 15 True 10000 1 :  12.480973243713379\n",
      "3 3 15 True 10000 2 :  17.20171332359314\n",
      "3 3 15 True 10000 3 :  74.73167371749878\n",
      "3 3 15 True 10000 4 :  6.889132976531982\n",
      "3 3 15 True 10000 5 :  1.7491357326507568\n",
      "3 3 15 True 10000 6 :  82.12314295768738\n",
      "3 3 15 True 10000 7 :  7.1004369258880615\n",
      "3 3 15 True 10000 8 :  24.36218786239624\n",
      "3 3 15 True 10000 9 :  23.747844696044922\n",
      "3 3 20 False 10000 0 :  2.5346715450286865\n"
     ]
    }
   ],
   "source": [
    "import pickle\n",
    "from time import time\n",
    "data_path = 'notebooks/ICML/icml_data/'\n",
    "\n",
    "for dim, in_edges, tau, autocorr, data_length, run in setups:    \n",
    "    \n",
    "    generator = CausalTSGenerator(dimensions=dim, max_p=tau, data_length=data_length,\n",
    "                                  incoming_edges=in_edges, autocorrelation=autocorr)\n",
    "    start = time()\n",
    "    ts = generator.generate()\n",
    "    elapsed = time() - start\n",
    "    \n",
    "    with open(data_path + f't={tau}_d={dim}_in={in_edges}_autocorr={autocorr}_{run}.pickle', 'wb') as f:\n",
    "        pickle.dump(generator, f)\n",
    "        \n",
    "    print(dim, in_edges, tau, autocorr, data_length, run, ': ', elapsed)"
   ]
  },
  {
   "cell_type": "code",
   "execution_count": null,
   "metadata": {},
   "outputs": [],
   "source": []
  }
 ],
 "metadata": {
  "kernelspec": {
   "display_name": "Python 3",
   "language": "python",
   "name": "python3"
  },
  "language_info": {
   "codemirror_mode": {
    "name": "ipython",
    "version": 3
   },
   "file_extension": ".py",
   "mimetype": "text/x-python",
   "name": "python",
   "nbconvert_exporter": "python",
   "pygments_lexer": "ipython3",
   "version": "3.6.6"
  },
  "notify_time": "30",
  "varInspector": {
   "cols": {
    "lenName": 16,
    "lenType": 16,
    "lenVar": 40
   },
   "kernels_config": {
    "python": {
     "delete_cmd_postfix": "",
     "delete_cmd_prefix": "del ",
     "library": "var_list.py",
     "varRefreshCmd": "print(var_dic_list())"
    },
    "r": {
     "delete_cmd_postfix": ") ",
     "delete_cmd_prefix": "rm(",
     "library": "var_list.r",
     "varRefreshCmd": "cat(var_dic_list()) "
    }
   },
   "types_to_exclude": [
    "module",
    "function",
    "builtin_function_or_method",
    "instance",
    "_Feature"
   ],
   "window_display": false
  }
 },
 "nbformat": 4,
 "nbformat_minor": 2
}
