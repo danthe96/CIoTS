{
 "cells": [
  {
   "cell_type": "code",
   "execution_count": null,
   "metadata": {
    "ExecuteTime": {
     "end_time": "2018-06-07T19:36:19.483697Z",
     "start_time": "2018-06-07T19:36:19.058627Z"
    },
    "collapsed": false
   },
   "outputs": [],
   "source": [
    "import numpy as np\n",
    "import pandas as pd\n",
    "\n",
    "import matplotlib.pyplot as plt"
   ]
  },
  {
   "cell_type": "code",
   "execution_count": null,
   "metadata": {
    "ExecuteTime": {
     "end_time": "2018-06-07T19:36:19.815661Z",
     "start_time": "2018-06-07T19:36:19.485283Z"
    },
    "collapsed": false
   },
   "outputs": [],
   "source": [
    "from CIoTS import CausalTSGenerator, node_name\n",
    "\n",
    "generator = CausalTSGenerator(dimensions=3, max_p=5, incoming_edges=4)\n",
    "data = generator.generate()\n",
    "data"
   ]
  },
  {
   "cell_type": "code",
   "execution_count": null,
   "metadata": {
    "ExecuteTime": {
     "end_time": "2018-06-07T19:36:20.027078Z",
     "start_time": "2018-06-07T19:36:19.817133Z"
    },
    "collapsed": false
   },
   "outputs": [],
   "source": [
    "generator.draw_graph()"
   ]
  },
  {
   "cell_type": "code",
   "execution_count": null,
   "metadata": {
    "ExecuteTime": {
     "end_time": "2018-06-07T19:36:20.061595Z",
     "start_time": "2018-06-07T19:36:20.028433Z"
    },
    "collapsed": false
   },
   "outputs": [],
   "source": [
    "from CIoTS.tools import transform_ts\n",
    "\n",
    "transformed = transform_ts(data, generator.max_p)\n",
    "labels = list(transformed[0].values())\n",
    "\n",
    "pd.DataFrame(np.corrcoef(transformed[1], rowvar=False), columns=labels, index=labels)"
   ]
  },
  {
   "cell_type": "code",
   "execution_count": null,
   "metadata": {
    "ExecuteTime": {
     "end_time": "2018-06-07T19:36:20.504105Z",
     "start_time": "2018-06-07T19:36:20.063089Z"
    },
    "collapsed": false
   },
   "outputs": [],
   "source": [
    "for col in data.columns:\n",
    "    plt.plot(np.arange(len(data)), data[col])\n",
    "    plt.show()"
   ]
  },
  {
   "cell_type": "code",
   "execution_count": null,
   "metadata": {
    "collapsed": true
   },
   "outputs": [],
   "source": []
  },
  {
   "cell_type": "code",
   "execution_count": null,
   "metadata": {
    "collapsed": true
   },
   "outputs": [],
   "source": []
  },
  {
   "cell_type": "code",
   "execution_count": null,
   "metadata": {
    "collapsed": true
   },
   "outputs": [],
   "source": []
  },
  {
   "cell_type": "code",
   "execution_count": null,
   "metadata": {
    "collapsed": true
   },
   "outputs": [],
   "source": []
  }
 ],
 "metadata": {
  "kernelspec": {
   "display_name": "Python 3",
   "language": "python",
   "name": "python3"
  },
  "language_info": {
   "codemirror_mode": {
    "name": "ipython",
    "version": 3
   },
   "file_extension": ".py",
   "mimetype": "text/x-python",
   "name": "python",
   "nbconvert_exporter": "python",
   "pygments_lexer": "ipython3",
   "version": "3.6.5"
  }
 },
 "nbformat": 4,
 "nbformat_minor": 2
}
