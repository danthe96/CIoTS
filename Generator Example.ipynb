{
 "cells": [
  {
   "cell_type": "code",
   "execution_count": null,
   "metadata": {
    "ExecuteTime": {
     "end_time": "2018-06-08T15:39:44.249412Z",
     "start_time": "2018-06-08T15:39:43.822948Z"
    },
    "collapsed": false
   },
   "outputs": [],
   "source": [
    "import numpy as np\n",
    "import pandas as pd\n",
    "\n",
    "import matplotlib.pyplot as plt"
   ]
  },
  {
   "cell_type": "code",
   "execution_count": null,
   "metadata": {
    "ExecuteTime": {
     "end_time": "2018-06-08T15:44:03.222707Z",
     "start_time": "2018-06-08T15:44:03.124001Z"
    },
    "collapsed": false
   },
   "outputs": [],
   "source": [
    "from CIoTS import CausalTSGenerator, node_name\n",
    "\n",
    "generator = CausalTSGenerator(dimensions=3, max_p=5, incoming_edges=4)\n",
    "data = generator.generate()\n",
    "data"
   ]
  },
  {
   "cell_type": "code",
   "execution_count": null,
   "metadata": {
    "ExecuteTime": {
     "end_time": "2018-06-08T15:44:04.198204Z",
     "start_time": "2018-06-08T15:44:04.015840Z"
    },
    "collapsed": false
   },
   "outputs": [],
   "source": [
    "generator.draw_graph()"
   ]
  },
  {
   "cell_type": "code",
   "execution_count": null,
   "metadata": {
    "ExecuteTime": {
     "end_time": "2018-06-08T15:44:04.952820Z",
     "start_time": "2018-06-08T15:44:04.923286Z"
    },
    "collapsed": false
   },
   "outputs": [],
   "source": [
    "from CIoTS.tools import transform_ts\n",
    "\n",
    "transformed = transform_ts(data, generator.max_p)\n",
    "labels = list(transformed[0].values())\n",
    "\n",
    "pd.DataFrame(np.corrcoef(transformed[1], rowvar=False), columns=labels, index=labels)"
   ]
  },
  {
   "cell_type": "code",
   "execution_count": null,
   "metadata": {
    "ExecuteTime": {
     "end_time": "2018-06-08T15:44:06.603556Z",
     "start_time": "2018-06-08T15:44:06.139901Z"
    },
    "collapsed": false
   },
   "outputs": [],
   "source": [
    "for col in data.columns:\n",
    "    plt.plot(np.arange(len(data)), data[col])\n",
    "    plt.show()"
   ]
  },
  {
   "cell_type": "code",
   "execution_count": null,
   "metadata": {
    "ExecuteTime": {
     "end_time": "2018-06-08T15:41:19.858437Z",
     "start_time": "2018-06-08T15:41:19.853339Z"
    },
    "collapsed": false
   },
   "outputs": [],
   "source": [
    "from statsmodels.tsa.vector_ar.var_model import is_stable\n",
    "\n",
    "is_stable(generator.VAR_exog)"
   ]
  },
  {
   "cell_type": "code",
   "execution_count": null,
   "metadata": {
    "collapsed": true
   },
   "outputs": [],
   "source": []
  },
  {
   "cell_type": "code",
   "execution_count": null,
   "metadata": {
    "collapsed": true
   },
   "outputs": [],
   "source": []
  },
  {
   "cell_type": "code",
   "execution_count": null,
   "metadata": {
    "collapsed": true
   },
   "outputs": [],
   "source": []
  },
  {
   "cell_type": "code",
   "execution_count": null,
   "metadata": {
    "collapsed": true
   },
   "outputs": [],
   "source": []
  },
  {
   "cell_type": "code",
   "execution_count": null,
   "metadata": {
    "collapsed": true
   },
   "outputs": [],
   "source": []
  }
 ],
 "metadata": {
  "kernelspec": {
   "display_name": "Python 3",
   "language": "python",
   "name": "python3"
  },
  "language_info": {
   "codemirror_mode": {
    "name": "ipython",
    "version": 3
   },
   "file_extension": ".py",
   "mimetype": "text/x-python",
   "name": "python",
   "nbconvert_exporter": "python",
   "pygments_lexer": "ipython3",
   "version": "3.6.5"
  }
 },
 "nbformat": 4,
 "nbformat_minor": 2
}
